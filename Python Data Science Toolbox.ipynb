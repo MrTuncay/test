{
 "cells": [
  {
   "cell_type": "markdown",
   "metadata": {},
   "source": [
    "# Python Data Science Toolbox"
   ]
  },
  {
   "cell_type": "markdown",
   "metadata": {},
   "source": [
    "## Python Data Science Toolbox (Part 1)"
   ]
  },
  {
   "cell_type": "markdown",
   "metadata": {},
   "source": [
    "**Course Description**\n",
    "\n",
    "It's now time to push forward and develop your Python chops even further. There are lots and lots of fantastic functions in Python and its library ecosystem. However, as a Data Scientist, you'll constantly need to write your own functions to solve problems that are dictated by your data. The art of function writing is what you'll learn in this first Python Data Science toolbox course. You'll come out of this course being able to write your very own custom functions, complete with multiple parameters and multiple return values, along with default arguments and variable-length arguments. You'll gain insight into scoping in Python and be able to write lambda functions and handle errors in your very own function writing practice. On top of this, you'll wrap up each Chapter by diving into using your acquired skills to write functions that analyze twitter DataFrames and are generalizable to broader Data Science contexts.\n",
    "\n"
   ]
  },
  {
   "cell_type": "markdown",
   "metadata": {},
   "source": [
    "## 1. Writing your own functions\n",
    "\n",
    "Here you will learn how to write your very own functions. In this Chapter, you'll learn how to write simple functions, as well as functions that accept multiple arguments and return multiple values. You'll also have the opportunity to apply these newfound skills to questions that commonly arise in Data Science contexts."
   ]
  },
  {
   "cell_type": "markdown",
   "metadata": {},
   "source": [
    "### 1.1 Strings in Python\n",
    "In the video, you learned of another standard Python datatype, strings. Recall that these represent textual data. To assign the string 'DataCamp' to a variable company, you execute:"
   ]
  },
  {
   "cell_type": "code",
   "execution_count": 47,
   "metadata": {},
   "outputs": [],
   "source": [
    "company = 'DataCamp'"
   ]
  },
  {
   "cell_type": "markdown",
   "metadata": {},
   "source": [
    "You've also learned to use the operations `+` and `*` with strings. Unlike with numeric types such as ints and floats, the `+` operator concatenates strings together, while the `*` concatenates multiple copies of a string together. In this exercise, you will use the `+` and `*` operations on strings to answer the question below. Execute the following code in the shell:"
   ]
  },
  {
   "cell_type": "code",
   "execution_count": 48,
   "metadata": {},
   "outputs": [],
   "source": [
    "object1 = \"data\" + \"analysis\" + \"visualization\"\n",
    "object2 = 1 * 3\n",
    "object3 = \"1\" * 3"
   ]
  },
  {
   "cell_type": "code",
   "execution_count": 49,
   "metadata": {},
   "outputs": [
    {
     "name": "stdout",
     "output_type": "stream",
     "text": [
      "dataanalysisvisualization 3 111\n"
     ]
    }
   ],
   "source": [
    "print(object1, object2, object3)"
   ]
  },
  {
   "cell_type": "markdown",
   "metadata": {},
   "source": [
    "### 1.2 Recapping built-in functions\n",
    "In the video, Hugo briefly examined the return behavior of the built-in functions `print()` and `str()`. Here, you will use both functions and examine their return values. A variable `x` has been preloaded for this exercise. Run the code below in the console. Pay close attention to the results to answer the question that follows.\n",
    "\n",
    "* Assign `str(x)` to a variable `y1`: `y1 = str(x)`\n",
    "* Assign `print(x)` to a variable `y2`: `y2 = print(x)`  \n",
    "* Check the types of the variables `x`, `y1`, and `y2`. \n",
    "\n",
    "What are the types of `x`, `y1`, and `y2`?  "
   ]
  },
  {
   "cell_type": "code",
   "execution_count": 50,
   "metadata": {},
   "outputs": [
    {
     "name": "stdout",
     "output_type": "stream",
     "text": [
      "4.89\n"
     ]
    }
   ],
   "source": [
    "x = 4.89\n",
    "y1 = str(x)\n",
    "y2 = print(x)"
   ]
  },
  {
   "cell_type": "code",
   "execution_count": 51,
   "metadata": {
    "scrolled": true
   },
   "outputs": [
    {
     "data": {
      "text/plain": [
       "float"
      ]
     },
     "execution_count": 51,
     "metadata": {},
     "output_type": "execute_result"
    }
   ],
   "source": [
    "type(x)"
   ]
  },
  {
   "cell_type": "code",
   "execution_count": 52,
   "metadata": {},
   "outputs": [
    {
     "data": {
      "text/plain": [
       "str"
      ]
     },
     "execution_count": 52,
     "metadata": {},
     "output_type": "execute_result"
    }
   ],
   "source": [
    "type(y1)"
   ]
  },
  {
   "cell_type": "code",
   "execution_count": 53,
   "metadata": {},
   "outputs": [
    {
     "data": {
      "text/plain": [
       "NoneType"
      ]
     },
     "execution_count": 53,
     "metadata": {},
     "output_type": "execute_result"
    }
   ],
   "source": [
    "type(y2)"
   ]
  },
  {
   "cell_type": "markdown",
   "metadata": {},
   "source": [
    "*It is important to remember that assigning a variable y2 to a function that prints a value but does not return a value will result in that variable y2 being of type NoneType*"
   ]
  },
  {
   "cell_type": "markdown",
   "metadata": {},
   "source": [
    "### 1.3 Write a simple function\n",
    "In the last video, Hugo described the basics of how to define a function. You will now write your own function!\n",
    "\n",
    "Define a function, shout(), which simply prints out a string with three exclamation marks '!!!' at the end. The code for the square() function that we wrote earlier is found below. You can use it as a pattern to define shout()."
   ]
  },
  {
   "cell_type": "code",
   "execution_count": 54,
   "metadata": {},
   "outputs": [],
   "source": [
    "def square():\n",
    "    new_value = 4 ** 2\n",
    "    return new_value"
   ]
  },
  {
   "cell_type": "markdown",
   "metadata": {},
   "source": [
    "**Instructions**\n",
    "\n",
    "* Complete the function header by adding the appropriate function name, `shout`.\n",
    "* In the function body, **concatenate** the string, `'congratulations'` with another string, `'!!!'`. Assign the result to `shout_word`.\n",
    "* Print the value of `shout_word`.\n",
    "* Call the `shout` function."
   ]
  },
  {
   "cell_type": "code",
   "execution_count": 55,
   "metadata": {},
   "outputs": [
    {
     "name": "stdout",
     "output_type": "stream",
     "text": [
      "congratulations!!!\n"
     ]
    }
   ],
   "source": [
    "# Define the function shout\n",
    "def shout():\n",
    "    \"\"\"Print a string with three exclamation marks\"\"\"\n",
    "    # Concatenate the strings: shout_word\n",
    "    shout_word = 'congratulations' + '!!!'\n",
    "\n",
    "    # Print shout_word\n",
    "    print(shout_word)\n",
    "\n",
    "# Call shout\n",
    "shout()"
   ]
  },
  {
   "cell_type": "markdown",
   "metadata": {},
   "source": [
    "### 1.4 Single-parameter functions\n",
    "Congratulations! You have successfully defined and called your own function! That's pretty cool.\n",
    "\n",
    "In the previous exercise, you defined and called the function `shout()`, which printed out a string concatenated with `'!!!'`. You will now update `shout()` by adding a parameter so that it can accept and process any string argument passed to it. Also note that `shout(word)`, the part of the header that specifies the function name and parameter(s), is known as the signature of the function. You may encounter this term in the wild!"
   ]
  },
  {
   "cell_type": "markdown",
   "metadata": {},
   "source": [
    "**Instructions**\n",
    "\n",
    "* Complete the function header by adding the parameter name, word.\n",
    "* Assign the result of concatenating word with '!!!' to shout_word.\n",
    "* Print the value of shout_word.\n",
    "* Call the shout() function, passing to it the string, 'congratulations'."
   ]
  },
  {
   "cell_type": "code",
   "execution_count": 56,
   "metadata": {},
   "outputs": [
    {
     "name": "stdout",
     "output_type": "stream",
     "text": [
      "congratulations!!!\n"
     ]
    }
   ],
   "source": [
    "# Define shout with the parameter, word\n",
    "def shout(word):\n",
    "    \"\"\"Print a string with three exclamation marks\"\"\"\n",
    "    # Concatenate the strings: shout_word\n",
    "    shout_word = word + '!!!'\n",
    "\n",
    "    # Print shout_word\n",
    "    print(shout_word)\n",
    "\n",
    "# Call shout with the string 'congratulations'\n",
    "shout('congratulations')"
   ]
  },
  {
   "cell_type": "markdown",
   "metadata": {},
   "source": [
    "### 1.5 Functions that return single values\n",
    "You're getting very good at this! Try your hand at another modification to the `shout()` function so that it now *returns* a single value instead of printing within the function. Recall that the `return` keyword lets you return values from functions. Parts of the function `shout()`, which you wrote earlier, are shown. Returning values is generally more desirable than printing them out because, as you saw earlier, a `print()` call assigned to a variable has type `NoneType`.\n",
    "\n",
    "**Instructions**\n",
    "\n",
    "* In the function body, concatenate the string in `word` with `'!!!'` and assign to shout_word.\n",
    "* Replace the `print()` statement with the appropriate `return` statement.\n",
    "* Call the `shout()` function, passing to it the string, `'congratulations'`, and assigning the call to the variable, yell.\n",
    "* To check if `yell` contains the value returned by `shout()`, print the value of `yell`."
   ]
  },
  {
   "cell_type": "code",
   "execution_count": 57,
   "metadata": {},
   "outputs": [
    {
     "name": "stdout",
     "output_type": "stream",
     "text": [
      "congratulations!!!\n"
     ]
    }
   ],
   "source": [
    "# Define shout with the parameter, word\n",
    "def shout(word):\n",
    "    \"\"\"Return a string with three exclamation marks\"\"\"\n",
    "    # Concatenate the strings: shout_word\n",
    "    shout_word = word + '!!!'\n",
    "\n",
    "    # Replace print with return\n",
    "    return shout_word\n",
    "\n",
    "# Pass 'congratulations' to shout: yell\n",
    "yell = shout('congratulations')\n",
    "\n",
    "# Print yell\n",
    "print(yell)"
   ]
  },
  {
   "cell_type": "markdown",
   "metadata": {},
   "source": [
    "Great work! Here it made sense to assign the output of `shout('congratulations')` to a variable `yell` because the function shout actually returns a value, it does not merely print one."
   ]
  },
  {
   "cell_type": "markdown",
   "metadata": {},
   "source": [
    "### 1.6 Functions with multiple parameters\n",
    "Hugo discussed the use of multiple parameters in defining functions in the last lecture. You are now going to use what you've learned to modify the `shout()` function further. Here, you will modify `shout()` to accept two arguments. Parts of the function `shout()`, which you wrote earlier, are shown.\n",
    "\n",
    "**Instructions**\n",
    "\n",
    "* Modify the function header such that it accepts two parameters, `word1` and `word2`, in that order.\n",
    "* Concatenate each of `word1` and `word2` with `'!!!'` and assign to `shout1` and `shout2`, respectively.\n",
    "* Concatenate `shout1` and `shout2` together, in that order, and assign to `new_shout`.\n",
    "* Pass the strings `'congratulations'` and `'you'`, in that order, to a call to `shout()`. Assign the return value to `yell`.\n"
   ]
  },
  {
   "cell_type": "code",
   "execution_count": 58,
   "metadata": {},
   "outputs": [
    {
     "name": "stdout",
     "output_type": "stream",
     "text": [
      "congratulations!!!you!!!\n"
     ]
    }
   ],
   "source": [
    "# Define shout with parameters word1 and word2\n",
    "def shout(word1, word2):\n",
    "    \"\"\"Concatenate strings with three exclamation marks\"\"\"\n",
    "    # Concatenate word1 with '!!!': shout1\n",
    "    shout1 = word1 + '!!!'\n",
    "    \n",
    "    # Concatenate word2 with '!!!': shout2\n",
    "    shout2 = word2 + '!!!'\n",
    "    \n",
    "    # Concatenate shout1 with shout2: new_shout\n",
    "    new_shout = shout1 + shout2\n",
    "\n",
    "    # Return new_shout\n",
    "    return new_shout\n",
    "\n",
    "# Pass 'congratulations' and 'you' to shout(): yell\n",
    "yell = shout('congratulations', 'you')\n",
    "\n",
    "# Print yell\n",
    "print(yell)"
   ]
  },
  {
   "cell_type": "markdown",
   "metadata": {},
   "source": [
    "### 1.7 A brief introduction to tuples\n",
    "Alongside learning about functions, you've also learned about tuples! Here, you will practice what you've learned about tuples: how to construct, unpack, and access tuple elements. Recall how Hugo unpacked the tuple `even_nums` in the video:\n",
    "\n",
    "`a, b, c = even_nums`\n",
    "\n",
    "A three-element tuple named `nums` has been preloaded for this exercise. Before completing the script, perform the following:\n",
    "\n",
    "* Print out the value of `nums` in the IPython shell. Note the elements in the tuple.\n",
    "* In the IPython shell, try to change the first element of `nums` to the value 2 by doing an assignment: `nums[0] = 2`. What happens?\n",
    "\n",
    "**Instructions**\n",
    "\n",
    "* Unpack nums to the variables `num1`, `num2`, and `num3`.\n",
    "* Construct a new tuple, `even_nums` composed of the same elements in `nums`, but with the 1st element replaced with the value, 2."
   ]
  },
  {
   "cell_type": "code",
   "execution_count": 59,
   "metadata": {},
   "outputs": [],
   "source": [
    "nums = (2, 4, 6)\n",
    "# Unpack nums into num1, num2, and num3\n",
    "num1, num2, num3 = nums\n",
    "\n",
    "# Construct even_nums\n",
    "even_nums = (2, num2 , num3)"
   ]
  },
  {
   "cell_type": "code",
   "execution_count": 60,
   "metadata": {},
   "outputs": [
    {
     "name": "stdout",
     "output_type": "stream",
     "text": [
      "(2, 4, 6)\n"
     ]
    }
   ],
   "source": [
    "print(even_nums)"
   ]
  },
  {
   "cell_type": "markdown",
   "metadata": {},
   "source": [
    "### 1.8 Functions that return multiple values\n",
    "In the previous exercise, you constructed tuples, assigned tuples to variables, and unpacked tuples. Here you will return multiple values from a function using tuples. Let's now update our `shout()` function to return multiple values. Instead of returning just one string, we will return two strings with the string `!!!` concatenated to each.\n",
    "\n",
    "Note that the return statement `return x, y` has the same result as `return (x, y)`: the former actually packs `x` and `y` into a tuple under the hood!\n",
    "\n",
    "**Instructions**\n",
    "\n",
    "* Modify the function header such that the function name is now `shout_all`, and it accepts two parameters, `word1` and `word2`, in that order.\n",
    "* Concatenate the string `'!!!'` to each of `word1` and `word2` and assign to `shout1` and `shout2`, respectively.\n",
    "* Construct a tuple shout_words, composed of `shout1` and `shout2`.\n",
    "* Call `shout_all()` with the strings `'congratulations'` and `'you'` and assign the result to `yell1` and `yell2` (remember, `shout_all()` returns 2 variables!)."
   ]
  },
  {
   "cell_type": "code",
   "execution_count": 61,
   "metadata": {
    "scrolled": true
   },
   "outputs": [
    {
     "name": "stdout",
     "output_type": "stream",
     "text": [
      "congratulations!!!\n",
      "you!!!\n"
     ]
    }
   ],
   "source": [
    "# Define shout_all with parameters word1 and word2\n",
    "def shout_all(word1, word2):\n",
    "    \n",
    "    # Concatenate word1 with '!!!': shout1\n",
    "    shout1 = word1 + '!!!'\n",
    "    \n",
    "    # Concatenate word2 with '!!!': shout2\n",
    "    shout2 = word2 + '!!!'\n",
    "    \n",
    "    # Construct a tuple with shout1 and shout2: shout_words\n",
    "    shout_words = (shout1, shout2)\n",
    "\n",
    "    # Return shout_words\n",
    "    return shout_words\n",
    "\n",
    "# Pass 'congratulations' and 'you' to shout_all(): yell1, yell2\n",
    "yell1, yell2 = shout_all('congratulations','you')\n",
    "\n",
    "# Print yell1 and yell2\n",
    "print(yell1)\n",
    "print(yell2)"
   ]
  },
  {
   "cell_type": "markdown",
   "metadata": {},
   "source": [
    "### 1.9 Bringing it all together (1)\n",
    "You've got your first taste of writing your own functions in the previous exercises. You've learned how to add parameters to your own function definitions, return a value or multiple values with tuples, and how to call the functions you've defined.\n",
    "\n",
    "In this and the following exercise, you will bring together all these concepts and apply them to a simple data science problem. You will load a dataset and develop functionalities to extract simple insights from the data.\n",
    "\n",
    "For this exercise, your goal is to recall how to load a dataset into a DataFrame. The dataset contains Twitter data and you will iterate over entries in a column to build a dictionary in which the keys are the names of languages and the values are the number of tweets in the given language. The file `tweets.csv` is available in your current directory.\n",
    "\n",
    "**Instuctions**\n",
    "\n",
    "* Import the pandas package with the alias `pd`.\n",
    "* Import the file `'tweets.csv'` using the pandas function `read_csv()`. Assign the resulting DataFrame to `df`.\n",
    "* Complete the for loop by iterating over `col`, the `'lang'` column in the DataFrame `df`.\n",
    "* Complete the bodies of the `if-else` statements in the `for` loop: **if** the key is in the dictionary `langs_count`, add `1` to its current value, **else** add the key to `langs_coun` and set its value to `1`. Use the loop variable `entry` in your code."
   ]
  },
  {
   "cell_type": "code",
   "execution_count": 62,
   "metadata": {},
   "outputs": [
    {
     "name": "stdout",
     "output_type": "stream",
     "text": [
      "3.7.3\n"
     ]
    }
   ],
   "source": [
    "from platform import python_version\n",
    "print(python_version())\n",
    "\n",
    "import pandas as pd"
   ]
  },
  {
   "cell_type": "code",
   "execution_count": 63,
   "metadata": {},
   "outputs": [
    {
     "name": "stdout",
     "output_type": "stream",
     "text": [
      "{'en': 97, 'et': 1, 'und': 2}\n"
     ]
    }
   ],
   "source": [
    "# Import pandas\n",
    "import pandas as pd\n",
    "\n",
    "# Import Twitter data as DataFrame: df\n",
    "df = pd.read_csv('Data/tweets.csv')\n",
    "\n",
    "# Initialize an empty dictionary: langs_count\n",
    "langs_count = {}\n",
    "\n",
    "# Extract column from DataFrame: col\n",
    "col = df['lang']\n",
    "\n",
    "# Iterate over lang column in DataFrame\n",
    "for entry in col:\n",
    "\n",
    "    # If the language is in langs_count, add 1\n",
    "    if entry in langs_count.keys():\n",
    "        langs_count[entry] += 1\n",
    "    # Else add the language to langs_count, set the value to 1\n",
    "    else:\n",
    "        langs_count[entry] = 1\n",
    "\n",
    "# Print the populated dictionary\n",
    "print(langs_count)"
   ]
  },
  {
   "cell_type": "markdown",
   "metadata": {},
   "source": [
    "### 1.10 Bringing it all together (2)\n",
    "Great job! You've now defined the functionality for iterating over entries in a column and building a dictionary with keys the names of languages and values the number of tweets in the given language.\n",
    "\n",
    "In this exercise, you will define a function with the functionality you developed in the previous exercise, return the resulting dictionary from within the function, and call the function with the appropriate arguments.\n",
    "\n",
    "For your convenience, the pandas package has been imported as `pd` and the `'tweets.csv'` file has been imported into the `tweets_df` variable.\n",
    "\n",
    "**Instructions**\n",
    "\n",
    "* Define the function `count_entries()`, which has two parameters. The first parameter is `df` for the DataFrame and the second is `col_name` for the column name.\n",
    "* Complete the bodies of the `if-else` statements in the `for` loop: **if** the key is in the dictionary `langs_count`, add `1` to its current value, **else** add the key to `langs_count` and set its value to `1`. Use the loop variable entry in your code.\n",
    "* Return the `langs_count` dictionary from inside the `count_entries()` function.\n",
    "* Call the `count_entries()` function by passing to it `tweets_df` and the name of the column, `'lang'`. Assign the result of the call to the variable `result`."
   ]
  },
  {
   "cell_type": "code",
   "execution_count": 64,
   "metadata": {},
   "outputs": [
    {
     "name": "stdout",
     "output_type": "stream",
     "text": [
      "{'en': 97, 'et': 1, 'und': 2}\n"
     ]
    }
   ],
   "source": [
    "tweets_df = pd.read_csv('Data/tweets.csv')\n",
    "\n",
    "# Define count_entries()\n",
    "def count_entries(df, col_name):\n",
    "    \"\"\"Return a dictionary with counts of \n",
    "    occurrences as value for each key.\"\"\"\n",
    "\n",
    "    # Initialize an empty dictionary: langs_count\n",
    "    langs_count = {}\n",
    "    \n",
    "    # Extract column from DataFrame: col\n",
    "    col = df[col_name]\n",
    "    \n",
    "    # Iterate over lang column in DataFrame\n",
    "    for entry in col:\n",
    "\n",
    "        # If the language is in langs_count, add 1\n",
    "        if entry in langs_count.keys():\n",
    "            langs_count[entry] += 1 \n",
    "        # Else add the language to langs_count, set the value to 1\n",
    "        else:\n",
    "            langs_count[entry] = 1\n",
    "\n",
    "    # Return the langs_count dictionary\n",
    "    return langs_count\n",
    "\n",
    "# Call count_entries(): result\n",
    "result = count_entries(tweets_df, 'lang')\n",
    "\n",
    "# Print the result\n",
    "print(result)"
   ]
  },
  {
   "cell_type": "markdown",
   "metadata": {},
   "source": [
    "## 2. Default arguments, variable-length arguments and scope\n",
    "\n",
    "In this chapter, you'll learn to write functions with default arguments, so that the user doesn't always need to specify them, and variable-length arguments, so that they can pass to your functions an arbitrary number of arguments. These are both incredibly useful tools! You'll also learn about the essential concept of scope. Enjoy!\n"
   ]
  },
  {
   "cell_type": "markdown",
   "metadata": {},
   "source": [
    "### 2.1 Pop quiz on understanding scope\n",
    "In this exercise, you will practice what you've learned about scope in functions. The variable `num` has been predefined as `5`, alongside the following function definitions:\n",
    "```python\n",
    "num = 5\n",
    "def func1():\n",
    "    num = 3\n",
    "    print(num)\n",
    "\n",
    "def func2():\n",
    "    global num\n",
    "    double_num = num * 2\n",
    "    num = 6\n",
    "    print(double_num)\n",
    "``` \n",
    "\n",
    "Try calling `func1()` and `func2()` in the shell, then answer the following questions:\n",
    "\n",
    "* What are the values printed out when you call `func1()` and `func2()`?\n",
    "* What is the value of `num` in the global scope after calling `func1()` and `func2()`?"
   ]
  },
  {
   "cell_type": "code",
   "execution_count": 65,
   "metadata": {},
   "outputs": [
    {
     "name": "stdout",
     "output_type": "stream",
     "text": [
      "3\n",
      "10\n",
      "6\n"
     ]
    }
   ],
   "source": [
    "num = 5\n",
    "def func1():\n",
    "    num = 3\n",
    "    print(num)\n",
    "\n",
    "def func2():\n",
    "    global num\n",
    "    double_num = num * 2\n",
    "    num = 6\n",
    "    print(double_num)\n",
    "    \n",
    "func1()\n",
    "func2()\n",
    "print(num)"
   ]
  },
  {
   "cell_type": "markdown",
   "metadata": {},
   "source": [
    "`func1()` prints out `3`, f`unc2()` prints out `10`, and the value of `num` in the global scope is `6`."
   ]
  },
  {
   "cell_type": "markdown",
   "metadata": {},
   "source": [
    "### 2.1 The keyword global\n",
    "Let's work more on your mastery of scope. In this exercise, you will use the keyword `global` within a function to alter the value of a variable defined in the global scope.\n",
    "\n",
    "__Instructions__\n",
    "\n",
    "* Use the keyword `global` to alter the object `team` in the global scope.\n",
    "* Change the value of `team` in the global scope to the string `\"justice league\"`. Assign the result to `team`.\n",
    "* Hit the Submit button to see how executing your newly defined function `change_team()` changes the value of the name `team`!\n"
   ]
  },
  {
   "cell_type": "code",
   "execution_count": 66,
   "metadata": {},
   "outputs": [
    {
     "name": "stdout",
     "output_type": "stream",
     "text": [
      "teen titans\n",
      "justice league\n"
     ]
    }
   ],
   "source": [
    "# Create a string: team\n",
    "team = \"teen titans\"\n",
    "\n",
    "# Define change_team()\n",
    "def change_team():\n",
    "    \"\"\"Change the value of the global variable team.\"\"\"\n",
    "\n",
    "    # Use team in global scope\n",
    "    global team\n",
    "\n",
    "    # Change the value of team in global: team\n",
    "    team = \"justice league\"\n",
    "# Print team\n",
    "print(team)\n",
    "\n",
    "# Call change_team()\n",
    "change_team()\n",
    "\n",
    "# Print team\n",
    "print(team)"
   ]
  },
  {
   "cell_type": "markdown",
   "metadata": {},
   "source": [
    "### 2.2 Python's built-in scope\n",
    "Here you're going to check out Python's built-in scope, which is really just a built-in module called `builtin`s. However, to query `builtins`, you'll need to `import builtins` 'because the name builtins is not itself built in...No, I’m serious!' (Learning Python, 5th edition, Mark Lutz). After executing import builtins in the IPython Shell, execute dir(builtins) to print a list of all the names in the module builtins. Have a look and you'll see a bunch of names that you'll recognize! Which of the following names is NOT in the module builtins?"
   ]
  },
  {
   "cell_type": "markdown",
   "metadata": {},
   "source": [
    "'array'"
   ]
  },
  {
   "cell_type": "markdown",
   "metadata": {},
   "source": [
    "### 2.3 Nested Functions I\n",
    "You've learned in the last video about nesting functions within functions. One reason why you'd like to do this is to avoid writing out the same computations within functions repeatedly. There's nothing new about defining nested functions: you simply define it as you would a regular function with `def` and embed it inside another function!\n",
    "\n",
    "In this exercise, inside a function `three_shouts()`, you will define a nested function `inner()` that concatenates a string object with `!!!`. `three_shouts()` then returns a tuple of three elements, each a string concatenated with `!!!` using `inner()`. Go for it!\n",
    "\n",
    "__Instructions__\n",
    "\n",
    "* Complete the function header of the nested function with the function name `inner()` and a single parameter word.\n",
    "* Complete the return value: each element of the tuple should be a call to `inner()`, passing in the parameters from `three_shouts()` as arguments to each call."
   ]
  },
  {
   "cell_type": "code",
   "execution_count": 67,
   "metadata": {},
   "outputs": [
    {
     "name": "stdout",
     "output_type": "stream",
     "text": [
      "('a!!!', 'b!!!', 'c!!!')\n"
     ]
    }
   ],
   "source": [
    "# Define three_shouts\n",
    "def three_shouts(word1, word2, word3):\n",
    "    \"\"\"Returns a tuple of strings\n",
    "    concatenated with '!!!'.\"\"\"\n",
    "\n",
    "    # Define inner\n",
    "    def inner(word):\n",
    "        \"\"\"Returns a string concatenated with '!!!'.\"\"\"\n",
    "        return word + '!!!'\n",
    "\n",
    "    # Return a tuple of strings\n",
    "    return (inner(word1), inner(word2), inner(word3))\n",
    "\n",
    "# Call three_shouts() and print\n",
    "print(three_shouts('a', 'b', 'c'))"
   ]
  },
  {
   "cell_type": "markdown",
   "metadata": {},
   "source": [
    "### 2.4 Nested Functions II\n",
    "Great job, you've just nested a function within another function. One other pretty cool reason for nesting functions is the idea of a closure. This means that the nested or inner function remembers the state of its enclosing scope when called. Thus, anything defined locally in the enclosing scope is available to the inner function even when the outer function has finished execution.\n",
    "\n",
    "Let's move forward then! In this exercise, you will complete the definition of the inner function `inner_echo()` and then call `echo()` a couple of times, each with a different argument. Complete the exercise and see what the output will be!\n",
    "\n",
    "__Instructions__\n",
    "\n",
    "* Complete the function header of the inner function with the function name `inner_echo()` and a single parameter `word1`.\n",
    "* Complete the function `echo()` so that it returns `inner_echo`.\n",
    "* We have called `echo()`, passing 2 as an argument, and assigned the resulting function to `twice`. Your job is to call `echo()`, passing 3 as an argument. Assign the resulting function to `thrice`.\n",
    "* Hit Submit to call `twice()` and `thrice()` and print the results."
   ]
  },
  {
   "cell_type": "code",
   "execution_count": 68,
   "metadata": {},
   "outputs": [
    {
     "name": "stdout",
     "output_type": "stream",
     "text": [
      "hellohello hellohellohello\n"
     ]
    }
   ],
   "source": [
    "# Define echo\n",
    "def echo(n):\n",
    "    \"\"\"Return the inner_echo function.\"\"\"\n",
    "\n",
    "    # Define inner_echo\n",
    "    def inner_echo(word1):\n",
    "        \"\"\"Concatenate n copies of word1.\"\"\"\n",
    "        echo_word = word1 * n\n",
    "        return echo_word\n",
    "\n",
    "    # Return inner_echo\n",
    "    return inner_echo\n",
    "\n",
    "# Call echo: twice\n",
    "twice = echo(2)\n",
    "\n",
    "# Call echo: thrice\n",
    "thrice = echo(3)\n",
    "\n",
    "# Call twice() and thrice() then print\n",
    "print(twice('hello'), thrice('hello'))"
   ]
  },
  {
   "cell_type": "markdown",
   "metadata": {},
   "source": [
    "### 2.5 The keyword nonlocal and nested functions\n",
    "Let's once again work further on your mastery of scope! In this exercise, you will use the keyword `nonlocal` within a nested function to alter the value of a variable defined in the enclosing scope.\n",
    "\n",
    "__Instructions__\n",
    "\n",
    "* Assign to `echo_word` the string `word`, concatenated with itself.\n",
    "* Use the keyword `nonlocal` to alter the value of `echo_word` in the enclosing scope.\n",
    "* Alter `echo_word` to `echo_word` concatenated with '!!!'.\n",
    "* Call the function `echo_shout()`, passing it a single argument 'hello'."
   ]
  },
  {
   "cell_type": "code",
   "execution_count": 69,
   "metadata": {},
   "outputs": [
    {
     "name": "stdout",
     "output_type": "stream",
     "text": [
      "hellohello\n",
      "hellohello!!!\n"
     ]
    }
   ],
   "source": [
    "# Define echo_shout()\n",
    "def echo_shout(word):\n",
    "    \"\"\"Change the value of a nonlocal variable\"\"\"\n",
    "    \n",
    "    # Concatenate word with itself: echo_word\n",
    "    echo_word = word * 2\n",
    "    \n",
    "    # Print echo_word\n",
    "    print(echo_word)\n",
    "    \n",
    "    # Define inner function shout()\n",
    "    def shout():\n",
    "        \"\"\"Alter a variable in the enclosing scope\"\"\"    \n",
    "        # Use echo_word in nonlocal scope\n",
    "        nonlocal echo_word\n",
    "        \n",
    "        # Change echo_word to echo_word concatenated with '!!!'\n",
    "        echo_word = echo_word + '!!!'\n",
    "    \n",
    "    # Call function shout()\n",
    "    shout()\n",
    "    \n",
    "    # Print echo_word\n",
    "    print(echo_word)\n",
    "\n",
    "# Call function echo_shout() with argument 'hello'\n",
    "echo_shout('hello')"
   ]
  },
  {
   "cell_type": "markdown",
   "metadata": {},
   "source": [
    "### 2.6 Functions with one default argument\n",
    "In the previous chapter, you've learned to define functions with more than one parameter and then calling those functions by passing the required number of arguments. In the last video, Hugo built on this idea by showing you how to define functions with default arguments. You will practice that skill in this exercise by writing a function that uses a default argument and then calling the function a couple of times.\n",
    "\n",
    "__Instructions__\n",
    "\n",
    "* Complete the function header with the function name `shout_echo`. It accepts an argument `word1` and a default argument `echo` with default value `1`, in that order.\n",
    "* Use the `*` operator to concatenate `echo` copies of `word1`. Assign the result to `echo_word`.\n",
    "* Call `shout_echo()` with just the string, `\"Hey\"`. Assign the result to `no_echo`.\n",
    "* Call `shout_echo()` with the string `\"Hey\"` and the value `5` for the default argument, `echo`. Assign the result to `with_echo`."
   ]
  },
  {
   "cell_type": "code",
   "execution_count": 70,
   "metadata": {},
   "outputs": [
    {
     "name": "stdout",
     "output_type": "stream",
     "text": [
      "Hey!!!\n",
      "HeyHeyHeyHeyHey!!!\n"
     ]
    }
   ],
   "source": [
    "# Define shout_echo\n",
    "def shout_echo(word1, echo=1):\n",
    "    \"\"\"Concatenate echo copies of word1 and three\n",
    "     exclamation marks at the end of the string.\"\"\"\n",
    "\n",
    "    # Concatenate echo copies of word1 using *: echo_word\n",
    "    echo_word = word1 * echo\n",
    "\n",
    "    # Concatenate '!!!' to echo_word: shout_word\n",
    "    shout_word = echo_word + '!!!'\n",
    "\n",
    "    # Return shout_word\n",
    "    return shout_word\n",
    "\n",
    "# Call shout_echo() with \"Hey\": no_echo\n",
    "no_echo = shout_echo(\"Hey\")\n",
    "\n",
    "# Call shout_echo() with \"Hey\" and echo=5: with_echo\n",
    "with_echo = shout_echo(\"Hey\", 5)\n",
    "\n",
    "# Print no_echo and with_echo\n",
    "print(no_echo)\n",
    "print(with_echo)"
   ]
  },
  {
   "cell_type": "markdown",
   "metadata": {},
   "source": [
    "### 2.7 Functions with multiple default arguments\n",
    "You've now defined a function that uses a default argument - don't stop there just yet! You will now try your hand at defining a function with more than one default argument and then calling this function in various ways.\n",
    "\n",
    "After defining the function, you will call it by supplying values to all the default arguments of the function. Additionally, you will call the function by not passing a value to one of the default arguments - see how that changes the output of your function!\n",
    "\n",
    "__Instructions__\n",
    "\n",
    "* Complete the function header with the function name `shout_echo`. It accepts an argument `word1`, a default argument `echo` with default value `1` and a default argument `intense` with default value `False`, in that order.\n",
    "* In the body of the `if` statement, make the string object `echo_word` upper case by applying the method .upper() on it.\n",
    "* Call `shout_echo()` with the string, `\"Hey\"`, the value `5` for `echo` and the value `True` for `intense`. Assign the result to `with_big_echo`.\n",
    "* Call `shout_echo()` with the string `\"Hey\"` and the value `True` for intense. Assign the result to `big_no_echo`."
   ]
  },
  {
   "cell_type": "code",
   "execution_count": 71,
   "metadata": {},
   "outputs": [
    {
     "name": "stdout",
     "output_type": "stream",
     "text": [
      "HEYHEYHEYHEYHEY!!!\n",
      "HEY!!!\n"
     ]
    }
   ],
   "source": [
    "# Define shout_echo\n",
    "def shout_echo(word1, echo=1, intense=False):\n",
    "    \"\"\"Concatenate echo copies of word1 and three\n",
    "    exclamation marks at the end of the string.\"\"\"\n",
    "\n",
    "    # Concatenate echo copies of word1 using *: echo_word\n",
    "    echo_word = word1 * echo\n",
    "\n",
    "    # Capitalize echo_word if intense is True\n",
    "    if intense is True:\n",
    "        # Capitalize and concatenate '!!!': echo_word_new\n",
    "        echo_word_new = echo_word.upper() + '!!!'\n",
    "    else:\n",
    "        # Concatenate '!!!' to echo_word: echo_word_new\n",
    "        echo_word_new = echo_word + '!!!'\n",
    "\n",
    "    # Return echo_word_new\n",
    "    return echo_word_new\n",
    "\n",
    "# Call shout_echo() with \"Hey\", echo=5 and intense=True: with_big_echo\n",
    "with_big_echo = shout_echo(\"Hey\", echo=5, intense=True)\n",
    "\n",
    "# Call shout_echo() with \"Hey\" and intense=True: big_no_echo\n",
    "big_no_echo = shout_echo(\"Hey\", intense=True)\n",
    "\n",
    "# Print values\n",
    "print(with_big_echo)\n",
    "print(big_no_echo)"
   ]
  },
  {
   "cell_type": "markdown",
   "metadata": {},
   "source": [
    "### 2.8 Functions with variable-length arguments (*args)\n",
    "\n",
    "Flexible arguments enable you to pass a variable number of arguments to a function. In this exercise, you will practice defining a function that accepts a variable number of string arguments.\n",
    "\n",
    "The function you will define is `gibberish()` which can accept a variable number of string values. Its return value is a single string composed of all the string arguments concatenated together in the order they were passed to the function call. You will call the function with a single string argument and see how the output changes with another call using more than one string argument. Recall from the previous video that, within the function definition, `args` is a tuple.\n",
    "\n",
    "__Instructions__\n",
    "\n",
    "* Complete the function header with the function name `gibberish`. It accepts a single flexible argument `*args`.\n",
    "* Initialize a variable `hodgepodge` to an empty string.\n",
    "* Return the variable `hodgepodge` at the end of the function body.\n",
    "* Call `gibberish()` with the single string, `\"luke\"`. Assign the result to `one_word`.\n",
    "* Hit the Submit button to call `gibberish()` with multiple arguments and to print the value to the Shell."
   ]
  },
  {
   "cell_type": "code",
   "execution_count": 72,
   "metadata": {},
   "outputs": [
    {
     "name": "stdout",
     "output_type": "stream",
     "text": [
      "luke\n",
      "lukeleiahanobidarth\n"
     ]
    }
   ],
   "source": [
    "# Define gibberish\n",
    "def gibberish(*args):\n",
    "    \"\"\"Concatenate strings in *args together.\"\"\"\n",
    "\n",
    "    # Initialize an empty string: hodgepodge\n",
    "    hodgepodge = ''\n",
    "\n",
    "    # Concatenate the strings in args\n",
    "    for word in args:\n",
    "        hodgepodge += word\n",
    "\n",
    "    # Return hodgepodge\n",
    "    return hodgepodge\n",
    "\n",
    "# Call gibberish() with one string: one_word\n",
    "one_word = gibberish(\"luke\")\n",
    "\n",
    "# Call gibberish() with five strings: many_words\n",
    "many_words = gibberish(\"luke\", \"leia\", \"han\", \"obi\", \"darth\")\n",
    "\n",
    "# Print one_word and many_words\n",
    "print(one_word)\n",
    "print(many_words)"
   ]
  },
  {
   "cell_type": "code",
   "execution_count": 73,
   "metadata": {},
   "outputs": [
    {
     "name": "stdout",
     "output_type": "stream",
     "text": [
      "gibberishungibberishancygibberishriendsgibberishork\n"
     ]
    }
   ],
   "source": [
    "test = gibberish('gibberishun', 'gibberishancy', 'gibberishriends', 'gibberishork')\n",
    "print(test)"
   ]
  },
  {
   "cell_type": "markdown",
   "metadata": {},
   "source": [
    "## 2.9 Functions with variable-length keyword arguments (**kwargs)\n",
    "\n",
    "Let's push further on what you've learned about flexible arguments - you've used `*args`, you're now going to use `**kwargs`! What makes `**kwargs` different is that it allows you to pass a variable number of keyword arguments to functions. Recall from the previous video that, within the function definition, `kwargs` is a dictionary.\n",
    "\n",
    "To understand this idea better, you're going to use `**kwargs` in this exercise to define a function that accepts a variable number of keyword arguments. The function simulates a simple status report system that prints out the status of a character in a movie.\n",
    "\n",
    "__Instructions_\n",
    "\n",
    "* Complete the function header with the function name `report_status`. It accepts a single flexible argument `**kwargs`.\n",
    "* Iterate over the key-value pairs of `kwargs` to print out the keys and values, separated by a colon ':'.\n",
    "* In the first call to `report_status()`, pass the following keyword-value pairs: `name=\"luke\"`, `affiliation=\"jedi\"` and `status=\"missing\"`.\n",
    "* In the second call to `report_status()`, pass the following keyword-value pairs: `name=\"anakin\"`, `affiliation=\"sith lord\"` and `status=\"deceased\"`."
   ]
  },
  {
   "cell_type": "code",
   "execution_count": 74,
   "metadata": {},
   "outputs": [
    {
     "name": "stdout",
     "output_type": "stream",
     "text": [
      "\n",
      "BEGIN: REPORT\n",
      "\n",
      "name: luke\n",
      "affiliation: jedi\n",
      "status: missing\n",
      "\n",
      "END REPORT\n",
      "\n",
      "BEGIN: REPORT\n",
      "\n",
      "name: anakin\n",
      "affiliation: sith lord\n",
      "status: deceased\n",
      "\n",
      "END REPORT\n"
     ]
    }
   ],
   "source": [
    "# Define report_status\n",
    "def report_status(**kwargs):\n",
    "    \"\"\"Print out the status of a movie character.\"\"\"\n",
    "\n",
    "    print(\"\\nBEGIN: REPORT\\n\")\n",
    "\n",
    "    # Iterate over the key-value pairs of kwargs\n",
    "    for key, value in kwargs.items():\n",
    "        # Print out the keys and values, separated by a colon ':'\n",
    "        print(key + \": \" + value)\n",
    "\n",
    "    print(\"\\nEND REPORT\")\n",
    "\n",
    "# First call to report_status()\n",
    "report_status(name=\"luke\", affiliation=\"jedi\", status=\"missing\")\n",
    "\n",
    "# Second call to report_status()\n",
    "report_status(name=\"anakin\", affiliation=\"sith lord\", status=\"deceased\")"
   ]
  },
  {
   "cell_type": "markdown",
   "metadata": {},
   "source": [
    "### 2.10 Bringing it all together (1)\n",
    "\n",
    "Recall the Bringing it all together exercise in the previous chapter where you did a simple Twitter analysis by developing a function that counts how many tweets are in certain languages. The output of your function was a dictionary that had the language as the keys and the counts of tweets in that language as the value.\n",
    "\n",
    "In this exercise, we will generalize the Twitter language analysis that you did in the previous chapter. You will do that by including a default argument that takes a column name.\n",
    "\n",
    "For your convenience, `pandas` has been imported as `pd` and the `'tweets.csv'` file has been imported into the DataFrame `tweets_df`. Parts of the code from your previous work are also provided.\n",
    "\n",
    "**Instructions**\n",
    "\n",
    "* Complete the function header by supplying the parameter for a DataFrame `df` and the parameter `col_name` with a default value of `'lang'` for the DataFrame column name.\n",
    "* Call `count_entries()` by passing the `tweets_df` DataFrame and the column name `'lang'`. Assign the result to `result1`. Note that since `'lang'` is the default value of the `col_name` parameter, you don't have to specify it here.\n",
    "* Call `count_entries()` by passing the `tweets_df` DataFrame and the column name `'source'`. Assign the result to `result2`.\n",
    "\n"
   ]
  },
  {
   "cell_type": "code",
   "execution_count": 75,
   "metadata": {},
   "outputs": [
    {
     "name": "stdout",
     "output_type": "stream",
     "text": [
      "{'en': 97, 'et': 1, 'und': 2}\n",
      "{'<a href=\"http://twitter.com\" rel=\"nofollow\">Twitter Web Client</a>': 24, '<a href=\"http://www.facebook.com/twitter\" rel=\"nofollow\">Facebook</a>': 1, '<a href=\"http://twitter.com/download/android\" rel=\"nofollow\">Twitter for Android</a>': 26, '<a href=\"http://twitter.com/download/iphone\" rel=\"nofollow\">Twitter for iPhone</a>': 33, '<a href=\"http://www.twitter.com\" rel=\"nofollow\">Twitter for BlackBerry</a>': 2, '<a href=\"http://www.google.com/\" rel=\"nofollow\">Google</a>': 2, '<a href=\"http://twitter.com/#!/download/ipad\" rel=\"nofollow\">Twitter for iPad</a>': 6, '<a href=\"http://linkis.com\" rel=\"nofollow\">Linkis.com</a>': 2, '<a href=\"http://rutracker.org/forum/viewforum.php?f=93\" rel=\"nofollow\">newzlasz</a>': 2, '<a href=\"http://ifttt.com\" rel=\"nofollow\">IFTTT</a>': 1, '<a href=\"http://www.myplume.com/\" rel=\"nofollow\">Plume\\xa0for\\xa0Android</a>': 1}\n"
     ]
    }
   ],
   "source": [
    "import pandas as pd\n",
    "tweets_df = pd.read_csv('Data/tweets.csv')\n",
    "\n",
    "# Define count_entries()\n",
    "def count_entries(df, col_name='lang'):\n",
    "    \"\"\"Return a dictionary with counts of\n",
    "    occurrences as value for each key.\"\"\"\n",
    "\n",
    "    # Initialize an empty dictionary: cols_count\n",
    "    cols_count = {}\n",
    "\n",
    "    # Extract column from DataFrame: col\n",
    "    col = df[col_name]\n",
    "    \n",
    "    # Iterate over the column in DataFrame\n",
    "    for entry in col:\n",
    "\n",
    "        # If entry is in cols_count, add 1\n",
    "        if entry in cols_count.keys():\n",
    "            cols_count[entry] += 1\n",
    "            \n",
    "\n",
    "        # Else add the entry to cols_count, set the value to 1\n",
    "        else:\n",
    "            cols_count[entry] = 1\n",
    "\n",
    "    # Return the cols_count dictionary\n",
    "    return cols_count\n",
    "\n",
    "# Call count_entries(): result1\n",
    "result1 = count_entries(tweets_df)\n",
    "\n",
    "# Call count_entries(): result2\n",
    "result2 = count_entries(tweets_df, col_name='source')\n",
    "\n",
    "# Print result1 and result2\n",
    "print(result1)\n",
    "print(result2)"
   ]
  },
  {
   "cell_type": "markdown",
   "metadata": {},
   "source": [
    "### 2.11 Bringing it all together (2)\n",
    "\n",
    "Wow, you've just generalized your Twitter language analysis that you did in the previous chapter to include a default argument for the column name. You're now going to generalize this function one step further by allowing the user to pass it a flexible argument, that is, in this case, as many column names as the user would like!\n",
    "\n",
    "Once again, for your convenience, `pandas` has been imported as pd and the `'tweets.csv'` file has been imported into the DataFrame `tweets_df`. Parts of the code from your previous work are also provided.\n",
    "\n",
    "**Instructions**\n",
    "\n",
    "* Complete the function header by supplying the parameter for the dataframe `df` and the flexible argument `*args`.\n",
    "* Complete the `for` loop within the function definition so that the loop occurs over the tuple `args`.\n",
    "* Call `count_entries()` by passing the `tweets_df` DataFrame and the column name `'lang'`. Assign the result to `result1`.\n",
    "* Call `count_entries()` by passing the `tweets_df` DataFrame and the column names `'lang'` and `'source'`. Assign the result to `result2`."
   ]
  },
  {
   "cell_type": "code",
   "execution_count": 76,
   "metadata": {},
   "outputs": [
    {
     "name": "stdout",
     "output_type": "stream",
     "text": [
      "{'en': 97, 'et': 1, 'und': 2}\n",
      "{'en': 97, 'et': 1, 'und': 2, '<a href=\"http://twitter.com\" rel=\"nofollow\">Twitter Web Client</a>': 24, '<a href=\"http://www.facebook.com/twitter\" rel=\"nofollow\">Facebook</a>': 1, '<a href=\"http://twitter.com/download/android\" rel=\"nofollow\">Twitter for Android</a>': 26, '<a href=\"http://twitter.com/download/iphone\" rel=\"nofollow\">Twitter for iPhone</a>': 33, '<a href=\"http://www.twitter.com\" rel=\"nofollow\">Twitter for BlackBerry</a>': 2, '<a href=\"http://www.google.com/\" rel=\"nofollow\">Google</a>': 2, '<a href=\"http://twitter.com/#!/download/ipad\" rel=\"nofollow\">Twitter for iPad</a>': 6, '<a href=\"http://linkis.com\" rel=\"nofollow\">Linkis.com</a>': 2, '<a href=\"http://rutracker.org/forum/viewforum.php?f=93\" rel=\"nofollow\">newzlasz</a>': 2, '<a href=\"http://ifttt.com\" rel=\"nofollow\">IFTTT</a>': 1, '<a href=\"http://www.myplume.com/\" rel=\"nofollow\">Plume\\xa0for\\xa0Android</a>': 1}\n"
     ]
    }
   ],
   "source": [
    "# Define count_entries()\n",
    "def count_entries(df, *args):\n",
    "    \"\"\"Return a dictionary with counts of\n",
    "    occurrences as value for each key.\"\"\"\n",
    "    \n",
    "    #Initialize an empty dictionary: cols_count\n",
    "    cols_count = {}\n",
    "    \n",
    "    # Iterate over column names in args\n",
    "    for col_name in args:\n",
    "    \n",
    "        # Extract column from DataFrame: col\n",
    "        col = df[col_name]\n",
    "    \n",
    "        # Iterate over the column in DataFrame\n",
    "        for entry in col:\n",
    "    \n",
    "            # If entry is in cols_count, add 1\n",
    "            if entry in cols_count.keys():\n",
    "                cols_count[entry] += 1\n",
    "    \n",
    "            # Else add the entry to cols_count, set the value to 1\n",
    "            else:\n",
    "                cols_count[entry] = 1\n",
    "\n",
    "    # Return the cols_count dictionary\n",
    "    return cols_count\n",
    "\n",
    "# Call count_entries(): result1\n",
    "result1 = count_entries(tweets_df, 'lang')\n",
    "\n",
    "# Call count_entries(): result2\n",
    "result2 = count_entries(tweets_df, 'lang', 'source')\n",
    "\n",
    "# Print result1 and result2\n",
    "print(result1)\n",
    "print(result2)"
   ]
  },
  {
   "cell_type": "markdown",
   "metadata": {},
   "source": [
    "## 3. Lambda functions and error-handling\n",
    "\n",
    "Herein, you'll learn about lambda functions, which allow you to write functions quickly and on-the-fly. You'll also get practice at handling errors that your functions, at some point, will inevitably throw. You'll wrap up once again applying these skills to Data Science questions."
   ]
  },
  {
   "cell_type": "markdown",
   "metadata": {},
   "source": [
    "### 3.1 Pop quiz on lambda functions\n",
    "In this exercise, you will practice writing a simple lambda function and calling this function. Recall what you know about lambda functions and answer the following questions:\n",
    "\n",
    "How would you write a lambda function `add_bangs` that adds three exclamation points `'!!!'` to the end of a string `a`?\n",
    "How would you call add_bangs with the argument `'hello'`?\n",
    "\n",
    "You may use the IPython shell to test your code.\n",
    "\n",
    "**Possible Answers**\n",
    "\n",
    "* The lambda function definition is: `add_bangs = (a + '!!!')`, and the function call is: `add_bangs('hello')`.\n",
    "* __The lambda function definition is: `add_bangs = (lambda a: a + '!!!')`, and the function call is: `add_bangs('hello')`.__\n",
    "* The lambda function definition is: `(lambda a: a + '!!!') = add_bangs`, and the function call is: `add_bangs('hello')`."
   ]
  },
  {
   "cell_type": "code",
   "execution_count": 77,
   "metadata": {},
   "outputs": [
    {
     "data": {
      "text/plain": [
       "'hello!!!'"
      ]
     },
     "execution_count": 77,
     "metadata": {},
     "output_type": "execute_result"
    }
   ],
   "source": [
    "add_bangs = (lambda a: a + '!!!')\n",
    "add_bangs('hello')"
   ]
  },
  {
   "cell_type": "markdown",
   "metadata": {},
   "source": [
    "### 3.2 Writing a lambda function you already know\n",
    "\n",
    "Some function definitions are simple enough that they can be converted to a lambda function. By doing this, you write less lines of code, which is pretty awesome and will come in handy, especially when you're writing and maintaining big programs. In this exercise, you will use what you know about lambda functions to convert a function that does a simple task into a lambda function. Take a look at this function definition:\n",
    "~~~\n",
    "def echo_word(word1, echo):\n",
    "    \"\"\"Concatenate echo copies of word1.\"\"\"\n",
    "    words = word1 * echo\n",
    "    return words\n",
    "~~~\n",
    "\n",
    "The function `echo_word` takes 2 parameters: a string value, `word1` and an integer value, `echo`. It returns a string that is a concatenation of `echo` copies of `word1`. Your task is to convert this simple function into a lambda function.\n",
    "\n",
    "**Instructions**\n",
    "\n",
    "* Define the lambda function `echo_word` using the variables `word1` and `echo`. Replicate what the original function definition for `echo_word()` does above.\n",
    "* Call `echo_word()` with the string argument `'hey'` and the value `5`, in that order. Assign the call to `result`."
   ]
  },
  {
   "cell_type": "code",
   "execution_count": 78,
   "metadata": {},
   "outputs": [
    {
     "name": "stdout",
     "output_type": "stream",
     "text": [
      "heyheyheyheyhey\n"
     ]
    }
   ],
   "source": [
    "# Define echo_word as a lambda function: echo_word\n",
    "echo_word = (lambda word1, echo: word1 * echo)\n",
    "\n",
    "# Call echo_word: result\n",
    "result = echo_word('hey', 5)\n",
    "\n",
    "# Print result\n",
    "print(result)"
   ]
  },
  {
   "cell_type": "markdown",
   "metadata": {},
   "source": [
    "### 3.3 Map() and lambda functions\n",
    "\n",
    "So far, you've used lambda functions to write short, simple functions as well as to redefine functions with simple functionality. The best use case for lambda functions, however, are for when you want these simple functionalities to be anonymously embedded within larger expressions. What that means is that the functionality is not stored in the environment, unlike a function defined with `def`. To understand this idea better, you will use a lambda function in the context of the `map()` function.\n",
    "\n",
    "Recall from the video that `map()` applies a function over an object, such as a list. Here, you can use lambda functions to define the function that `map()` will use to process the object. For example:\n",
    "~~~\n",
    "nums = [2, 4, 6, 8, 10]\n",
    "\n",
    "result = map(lambda a: a ** 2, nums)\n",
    "~~~\n",
    "You can see here that a lambda function, which raises a value `a` to the power of 2, is passed to `map()` alongside a list of numbers, `nums`. The map object that results from the call to `map()` is stored in `result`. You will now practice the use of lambda functions with `map()`. For this exercise, you will map the functionality of the `add_bangs()` function you defined in previous exercises over a list of strings.\n",
    "\n",
    "**Instructions**\n",
    "\n",
    "In the `map()` call, pass a lambda function that concatenates the string `'!!!'` to a string item; also pass the list of strings, `spells`. Assign the resulting map object to `shout_spells`.\n",
    "Convert `shout_spells` to a list and print out the list.\n"
   ]
  },
  {
   "cell_type": "code",
   "execution_count": 79,
   "metadata": {},
   "outputs": [
    {
     "name": "stdout",
     "output_type": "stream",
     "text": [
      "['protego!!!', 'accio!!!', 'expecto patronum!!!', 'legilimens!!!']\n"
     ]
    }
   ],
   "source": [
    "# Create a list of strings: spells\n",
    "spells = [\"protego\", \"accio\", \"expecto patronum\", \"legilimens\"]\n",
    "\n",
    "# Use map() to apply a lambda function over spells: shout_spells\n",
    "shout_spells = map(lambda item: item + '!!!', spells)\n",
    "\n",
    "# Convert shout_spells to a list: shout_spells_list\n",
    "shout_spells_list = list(shout_spells)\n",
    "\n",
    "# Convert shout_spells into a list and print it\n",
    "print(shout_spells_list)"
   ]
  },
  {
   "cell_type": "markdown",
   "metadata": {},
   "source": [
    "### 3.4 Filter() and lambda functions\n",
    "\n",
    "In the previous exercise, you used lambda functions to anonymously embed an operation within `map()`. You will practice this again in this exercise by using a lambda function with `filter()`, which may be new to you! The function `filter()` offers a way to filter out elements from a list that don't satisfy certain criteria.\n",
    "\n",
    "Your goal in this exercise is to use `filter()` to create, from an input list of strings, a new list that contains only strings that have more than 6 characters.\n",
    "\n",
    "**Instructions**\n",
    "\n",
    "* In the `filter()` call, pass a lambda function and the list of strings, `fellowship`. The lambda function should check if the `number` of characters in a string member is greater than 6; use the len() function to do this. Assign the resulting filter object to `result`.\n",
    "* Convert `result` to a list and print out the list.\n"
   ]
  },
  {
   "cell_type": "code",
   "execution_count": 80,
   "metadata": {},
   "outputs": [
    {
     "name": "stdout",
     "output_type": "stream",
     "text": [
      "['samwise', 'aragorn', 'boromir', 'legolas', 'gandalf']\n"
     ]
    }
   ],
   "source": [
    "# Create a list of strings: fellowship\n",
    "fellowship = ['frodo', 'samwise', 'merry', 'pippin', 'aragorn', 'boromir', 'legolas', 'gimli', 'gandalf']\n",
    "\n",
    "# Use filter() to apply a lambda function over fellowship: result\n",
    "result = filter(lambda member: len(member)>6, fellowship)\n",
    "\n",
    "# Convert result to a list: result_list\n",
    "result_list = list(result)\n",
    "\n",
    "# Convert result into a list and print it\n",
    "print(result_list)"
   ]
  },
  {
   "cell_type": "markdown",
   "metadata": {},
   "source": [
    "### 3.5 Reduce() and lambda functions\n",
    "\n",
    "You're getting very good at using lambda functions! Here's one more function to add to your repertoire of skills. The `reduce()` function is useful for performing some computation on a list and, unlike `map()` and `filter()`, returns a single value as a result. To use `reduce()`, you must import it from the `functools` module.\n",
    "\n",
    "Remember `gibberish()` from a few exercises back?\n",
    "~~~\n",
    "# Define gibberish\n",
    "def gibberish(*args):\n",
    "    \"\"\"Concatenate strings in *args together.\"\"\"\n",
    "    hodgepodge = ''\n",
    "    for word in args:\n",
    "        hodgepodge += word\n",
    "    return hodgepodge\n",
    "~~~    \n",
    "    \n",
    "`gibberish()` simply takes a list of strings as an argument and returns, as a single-value result, the concatenation of all of these strings. In this exercise, you will replicate this functionality by using `reduce()` and a lambda function that concatenates strings together.\n",
    "\n",
    "**Instructions**\n",
    "\n",
    "* Import the `reduce` function from the `functools` module.\n",
    "* In the `reduce()` call, pass a lambda function that takes two string arguments `item1` and `item2` and concatenates them; also pass the list of strings, `stark`. Assign the result to `result`. The first argument to `reduce()` should be the lambda function and the second argument is the list `stark`.\n"
   ]
  },
  {
   "cell_type": "code",
   "execution_count": 81,
   "metadata": {},
   "outputs": [
    {
     "name": "stdout",
     "output_type": "stream",
     "text": [
      "robbsansaaryabrandonrickon\n"
     ]
    }
   ],
   "source": [
    "# Import reduce from functools\n",
    "from functools import reduce\n",
    "\n",
    "# Create a list of strings: stark\n",
    "stark = ['robb', 'sansa', 'arya', 'brandon', 'rickon']\n",
    "\n",
    "# Use reduce() to apply a lambda function over stark: result\n",
    "result = reduce((lambda item1, item2 : item1 + item2), stark)\n",
    "\n",
    "# Print the result\n",
    "print(result)"
   ]
  },
  {
   "cell_type": "markdown",
   "metadata": {},
   "source": [
    "### 3.6 Pop quiz about errors\n",
    "\n",
    "In the video, Hugo talked about how errors happen when functions are supplied arguments that they are unable to work with. In this exercise, you will identify which function call raises an error and what type of error is raised.\n",
    "\n",
    "Take a look at the following function calls to len():\n",
    "~~~\n",
    "    len('There is a beast in every man and it stirs when you put a sword in his hand.')\n",
    "    len(['robb', 'sansa', 'arya', 'eddard', 'jon'])\n",
    "    len(525600)\n",
    "    len(('jaime', 'cersei', 'tywin', 'tyrion', 'joffrey'))\n",
    "~~~    \n",
    "\n",
    "Which of the function calls raises an error and what type of error is raised?\n",
    "\n",
    "**The call len(525600) raises a TypeError.**"
   ]
  },
  {
   "cell_type": "code",
   "execution_count": 82,
   "metadata": {},
   "outputs": [
    {
     "ename": "NameError",
     "evalue": "name 'en' is not defined",
     "output_type": "error",
     "traceback": [
      "\u001b[1;31m---------------------------------------------------------------------------\u001b[0m",
      "\u001b[1;31mNameError\u001b[0m                                 Traceback (most recent call last)",
      "\u001b[1;32m<ipython-input-82-5137cd49db08>\u001b[0m in \u001b[0;36m<module>\u001b[1;34m\u001b[0m\n\u001b[1;32m----> 1\u001b[1;33m \u001b[0men\u001b[0m\u001b[1;33m(\u001b[0m\u001b[1;36m525600\u001b[0m\u001b[1;33m)\u001b[0m\u001b[1;33m\u001b[0m\u001b[1;33m\u001b[0m\u001b[0m\n\u001b[0m",
      "\u001b[1;31mNameError\u001b[0m: name 'en' is not defined"
     ]
    }
   ],
   "source": [
    "en(525600) "
   ]
  },
  {
   "cell_type": "markdown",
   "metadata": {},
   "source": [
    "### 3.7 Error handling with try-except\n",
    "\n",
    "A good practice in writing your own functions is also anticipating the ways in which other people (or yourself, if you accidentally misuse your own function) might use the function you defined.\n",
    "\n",
    "As in the previous exercise, you saw that the `len()` function is able to handle input arguments such as strings, lists, and tuples, but not int type ones and raises an appropriate error and error message when it encounters invalid input arguments. One way of doing this is through exception handling with the `try-except` block.\n",
    "\n",
    "In this exercise, you will define a function as well as use a `try-except` block for handling cases when incorrect input arguments are passed to the function.\n",
    "\n",
    "Recall the `shout_echo()` function you defined in previous exercises; parts of the function definition are provided in the sample code. Your goal is to complete the exception handling code in the function definition and provide an appropriate error message when raising an error.\n",
    "\n",
    "**Instructions**\n",
    "\n",
    "* Initialize the variables `echo_word` and `shout_words` to empty strings.\n",
    "* Add the keywords `try` and `except` in the appropriate locations for the exception handling block.\n",
    "* Use the `*` operator to concatenate `echo` copies of `word1`. Assign the result to `echo_word`.\n",
    "* Concatenate the string `'!!!'` to `echo_word`. Assign the result to `shout_words`."
   ]
  },
  {
   "cell_type": "code",
   "execution_count": null,
   "metadata": {},
   "outputs": [],
   "source": [
    "# Define shout_echo\n",
    "def shout_echo(word1, echo=1):\n",
    "    \"\"\"Concatenate echo copies of word1 and three\n",
    "    exclamation marks at the end of the string.\"\"\"\n",
    "\n",
    "    # Initialize empty strings: echo_word, shout_words\n",
    "    echo_word = ''\n",
    "    shout_words = ''\n",
    "\n",
    "    # Add exception handling with try-except\n",
    "    try:\n",
    "        # Concatenate echo copies of word1 using *: echo_word\n",
    "        echo_word = word1 * echo \n",
    "\n",
    "        # Concatenate '!!!' to echo_word: shout_words\n",
    "        shout_words = echo_word + '!!!'\n",
    "    except:\n",
    "        # Print error message\n",
    "        print(\"word1 must be a string and echo must be an integer.\")\n",
    "\n",
    "    # Return shout_words\n",
    "    return shout_words\n",
    "\n",
    "# Call shout_echo\n",
    "shout_echo(\"particle\", echo=\"accelerator\")"
   ]
  },
  {
   "cell_type": "markdown",
   "metadata": {},
   "source": [
    "### 3.8 Error handling by raising an error\n",
    "Another way to `raise` an error is by using `raise`. In this exercise, you will add a raise statement to the `shout_echo()` function you defined before to raise an error message when the value supplied by the user to the `echo` argument is less than 0.\n",
    "\n",
    "The call to `shout_echo()` uses valid argument values. To test and see how the `raise` statement works, simply change the value for the `echo` argument to a negative value. Don't forget to change it back to valid values to move on to the next exercise!\n",
    "\n",
    "**Instructions**\n",
    "\n",
    "* Complete the `if` statement by checking if the value of `echo` is *less* than 0.\n",
    "* In the body of the `if` statement, add a `raise` statement that raises a `ValueError` with message `'echo must be greater than 0'` when the value supplied by the user to echo is `less` than 0.\n"
   ]
  },
  {
   "cell_type": "code",
   "execution_count": null,
   "metadata": {},
   "outputs": [],
   "source": []
  },
  {
   "cell_type": "markdown",
   "metadata": {},
   "source": [
    "### 3.9 Bringing it all together (1)\n",
    "This is awesome! You have now learned how to write anonymous functions using `lambda`, how to pass lambda functions as arguments to other functions such as `map()`, `filter()`, and `reduce()`, as well as how to write errors and output custom error messages within your functions. You will now put together these learnings to good use by working with a Twitter dataset. Before practicing your new error handling skills,in this exercise, you will write a lambda function and use `filter()` to select retweets, that is, tweets that begin with the string `'RT'`.\n",
    "\n",
    "To help you accomplish this, the Twitter data has been imported into the DataFrame, `tweets_df`. Go for it!\n",
    "\n",
    "**Instructions**\n",
    "\n",
    "In the `filter()` call, pass a lambda function and the sequence of tweets as strings, `tweets_df['text']`. The lambda function should check if the first 2 characters in a tweet x are 'RT'. Assign the resulting filter object to `result`. To get the first 2 characters in a tweet `x`, use `x[0:2]`. To check equality, use a Boolean filter with `==`.\n",
    "Convert `result` to a list and print out the list."
   ]
  },
  {
   "cell_type": "code",
   "execution_count": null,
   "metadata": {},
   "outputs": [],
   "source": [
    "# Define shout_echo\n",
    "def shout_echo(word1, echo=1):\n",
    "    \"\"\"Concatenate echo copies of word1 and three\n",
    "    exclamation marks at the end of the string.\"\"\"\n",
    "\n",
    "    # Raise an error with raise\n",
    "    if echo < 0 :\n",
    "        raise  ValueError('echo must be greater than 0')\n",
    "\n",
    "    # Concatenate echo copies of word1 using *: echo_word\n",
    "    echo_word = word1 * echo\n",
    "\n",
    "    # Concatenate '!!!' to echo_word: shout_word\n",
    "    shout_word = echo_word + '!!!'\n",
    "\n",
    "    # Return shout_word\n",
    "    return shout_word\n",
    "\n",
    "# Call shout_echo\n",
    "shout_echo(\"particle\", echo=5)"
   ]
  },
  {
   "cell_type": "code",
   "execution_count": null,
   "metadata": {},
   "outputs": [],
   "source": [
    "# Select retweets from the Twitter DataFrame: result\n",
    "result = filter(lambda x: x[0:2] == 'RT', tweets_df['text'])\n",
    "\n",
    "# Create list from filter object result: res_list\n",
    "res_list = list(result)\n",
    "\n",
    "# Print all retweets in res_list\n",
    "for tweet in res_list:\n",
    "    print(tweet)"
   ]
  },
  {
   "cell_type": "markdown",
   "metadata": {},
   "source": [
    "### 3.10 Bringing it all together (2)\n",
    "Sometimes, we make mistakes when calling functions - even ones you made yourself. But don't fret! In this exercise, you will improve on your previous work with the `count_entries()` function in the last chapter by adding a `try-except` block to it. This will allow your function to provide a helpful message when the user calls your `count_entries()` function but provides a column name that isn't in the DataFrame.\n",
    "\n",
    "Once again, for your convenience, `pandas` has been imported as `pd` and the `'tweets.csv'` file has been imported into the DataFrame `tweets_df`. Parts of the code from your previous work are also provided.\n",
    "\n",
    "**Instructions**\n",
    "\n",
    "* Add a `try` block so that when the function is called with the correct arguments, it processes the DataFrame and returns a dictionary of results.\n",
    "* Add an `except` block so that when the function is called incorrectly, it displays the following error message: `'The DataFrame does not have a ' + col_name + ' column.'`"
   ]
  },
  {
   "cell_type": "code",
   "execution_count": null,
   "metadata": {},
   "outputs": [],
   "source": [
    "# Define count_entries()\n",
    "def count_entries(df, col_name='lang'):\n",
    "    \"\"\"Return a dictionary with counts of\n",
    "    occurrences as value for each key.\"\"\"\n",
    "\n",
    "    # Initialize an empty dictionary: cols_count\n",
    "    cols_count = {}\n",
    "\n",
    "    # Add try block\n",
    "    try:\n",
    "        # Extract column from DataFrame: col\n",
    "        col = df[col_name]\n",
    "        \n",
    "        # Iterate over the column in dataframe\n",
    "        for entry in col:\n",
    "    \n",
    "            # If entry is in cols_count, add 1\n",
    "            if entry in cols_count.keys():\n",
    "                cols_count[entry] += 1\n",
    "            # Else add the entry to cols_count, set the value to 1\n",
    "            else:\n",
    "                cols_count[entry] = 1\n",
    "    \n",
    "        # Return the cols_count dictionary\n",
    "        return cols_count\n",
    "\n",
    "    # Add except block\n",
    "    except:\n",
    "        'The DataFrame does not have a ' + col_name + ' column.'\n",
    "\n",
    "# Call count_entries(): result1\n",
    "result1 = count_entries(tweets_df, 'lang')\n",
    "\n",
    "# Print result1\n",
    "print(result1)"
   ]
  },
  {
   "cell_type": "markdown",
   "metadata": {},
   "source": [
    "### 3.11 Bringing it all together (3)\n",
    "In the previous exercise, you built on your function `count_entries()` to add a `try-except` block. This was so that users would get helpful messages when calling your `count_entries()` function and providing a column name that isn't in the DataFrame. In this exercise, you'll instead raise a `ValueError` in the case that the user provides a column name that isn't in the DataFrame.\n",
    "\n",
    "Once again, for your convenience, `pandas` has been imported as `pd` and the `'tweets.csv'` file has been imported into the DataFrame `tweets_df`. Parts of the code from your previous work are also provided.\n",
    "\n",
    "**Instructions**\n",
    "\n",
    "* If `col_name` is not a column in the DataFrame `df`, raise a `ValueError 'The DataFrame does not have a ' + col_name + ' column.'`.\n",
    "* Call your new function `count_entries()` to analyze the `'lang'` column of `tweets_df`. Store the result in `result1`.\n",
    "* Print `result1`. This has been done for you, so hit 'Submit Answer' to check out the result. In the next exercise, you'll see that it raises the necessary `ValueErrors`.\n"
   ]
  },
  {
   "cell_type": "markdown",
   "metadata": {},
   "source": [
    "### 3.12 Bringing it all together: testing your error handling skills\n",
    "You have just written error handling into your `count_entries()` function so that, when the user passes the function a column (as 2nd argument) NOT contained in the DataFrame (1st argument), a `ValueError` is thrown. You're now going to play with this function: it is loaded into pre-exercise code, as is the DataFrame `tweets_df`. Try calling `count_entries(tweets_df, 'lang')` to confirm that the function behaves as it should. Then call `count_entries(tweets_df, 'lang1')`: what is the last line of the output?"
   ]
  },
  {
   "cell_type": "markdown",
   "metadata": {},
   "source": [
    "***'ValueError: The DataFrame does not have a lang1 column.'***"
   ]
  },
  {
   "cell_type": "markdown",
   "metadata": {},
   "source": [
    "## Python Data Science Toolbox (Part 2)"
   ]
  },
  {
   "cell_type": "markdown",
   "metadata": {},
   "source": [
    "**Course Description**\n",
    "\n",
    "In this second course in the Python Data Science Toolbox, you'll continue to build your Python Data Science skills. First you'll enter the wonderful world of iterators, objects that you have already encountered in the context of for loops without having necessarily known it. You'll then learn about list comprehensions, which are extremely handy tools that form a basic component in the toolbox of all modern Data Scientists working in Python. You'll end the course by working through a case study in which you'll apply all of the techniques you learned both in this course as well as the prequel. If you're looking to make it as a Pythonista Data Science ninja, you have come to the right place."
   ]
  },
  {
   "cell_type": "markdown",
   "metadata": {},
   "source": [
    "### 4 Using iterators in PythonLand\n",
    "\n",
    "Here, you'll learn all about iterators and iterables, which you have already worked with before when writing for loops! You'll learn about some very useful functions that will allow you to effectively work with iterators and finish the chapter with a use case that is pertinent to the world of Data Science - dealing with large amounts of data - in this case, data from Twitter that you will load in chunks using iterators!"
   ]
  },
  {
   "cell_type": "markdown",
   "metadata": {},
   "source": [
    "### 4.1 Iterators vs Iterables\n",
    "Let's do a quick recall of what you've learned about **iterables** and **iterators**. Recall from the video that an iterable is an object that can return an iterator, while an iterator is an object that keeps state and produces the next value when you call `next()` on it. In this exercise, you will identify which object is an iterable and which is an iterator.\n",
    "\n",
    "The environment has been pre-loaded with the variables `flash1` and `flash2`. Try printing out their values with `print()` and `next()` to figure out which is an `iterable` and which is an `iterator`."
   ]
  },
  {
   "cell_type": "code",
   "execution_count": null,
   "metadata": {},
   "outputs": [],
   "source": [
    "flash1 =  ['jay garrick', 'barry allen', 'wally west', 'bart allen']\n",
    "flash2 = iter('')"
   ]
  },
  {
   "cell_type": "code",
   "execution_count": null,
   "metadata": {},
   "outputs": [],
   "source": [
    "print(flash1)\n",
    "print(flash2)"
   ]
  },
  {
   "cell_type": "markdown",
   "metadata": {},
   "source": [
    "*Flash1 is an iterable and flash2 is an iterator.*"
   ]
  },
  {
   "cell_type": "markdown",
   "metadata": {},
   "source": [
    "### 4.2 Iterating over iterables (1)\n",
    "Great, you're familiar with what iterables and iterators are! In this exercise, you will reinforce your knowledge about these by iterating over and printing from iterables and iterators.\n",
    "\n",
    "You are provided with a list of strings `flash`. You will practice iterating over the list by using a `for` loop. You will also create an iterator for the list and access the values from the iterator.\n",
    "\n",
    "**Instructions**\n",
    "\n",
    "* Create a `for` loop to loop over `flash` and print the values in the list. Use `person` as the loop variable.\n",
    "* Create an iterator for the list `flash` and assign the result to `superspeed`.\n",
    "* Print each of the items from `superspeed` using `next()` 4 times."
   ]
  },
  {
   "cell_type": "code",
   "execution_count": null,
   "metadata": {},
   "outputs": [],
   "source": [
    "# Create a list of strings: flash\n",
    "flash = ['jay garrick', 'barry allen', 'wally west', 'bart allen']\n",
    "\n",
    "# Print each list item in flash using a for loop\n",
    "for person in flash:\n",
    "    print(person)\n",
    "\n",
    "\n",
    "# Create an iterator for flash: superspeed\n",
    "superspeed =  iter(flash)\n",
    "\n",
    "# Print each item from the iterator\n",
    "print(next(superspeed))\n",
    "print(next(superspeed))\n",
    "print(next(superspeed))\n",
    "print(next(superspeed))"
   ]
  },
  {
   "cell_type": "markdown",
   "metadata": {},
   "source": [
    "### 4.3 Iterating over iterables (2)\n",
    "\n",
    "One of the things you learned about in this chapter is that not all iterables are actual lists. A couple of examples that we looked at are strings and the use of the `range()` function. In this exercise, we will focus on the `range()` function.\n",
    "\n",
    "You can use `range()` in a `for` loop as if it's a list to be iterated over:\n",
    "\n",
    "> ~~~\n",
    "> for i in range(5):\n",
    "      print(i)\n",
    "> ~~~\n",
    "\n",
    "\n",
    "Recall that `range()` doesn't actually create the list; instead, it creates a range object with an iterator that produces the values until it reaches the limit (in the example, until the value 4). If `range()` created the actual list, calling it with a value of **10**<sup>**100**</sup> may not work, especially since a number as big as that may go over a regular computer's memory. The value  **10**<sup>**100**</sup> is actually - what's called a **Googol** which is a 1 followed by a hundred 0s. That's a huge number!\n",
    "\n",
    "Your task for this exercise is to show that calling `range()` with 10100 won't actually pre-create the list.\n",
    "\n",
    "**Instructions**\n",
    "\n",
    "- Create an **iterator** object `small_value` over `range(3)` using the function `iter()`.\n",
    "- Using a `for` loop, iterate over `range(3)`, printing the value for every iteration. Use `num` as the loop variable.\n",
    "- Create an **iterator** object `googol` over `range(10 ** 100)`.\n"
   ]
  },
  {
   "cell_type": "code",
   "execution_count": null,
   "metadata": {},
   "outputs": [],
   "source": [
    "# Create an iterator for range(3): small_value\n",
    "small_value = iter(range(3))\n",
    "\n",
    "# Print the values in small_value\n",
    "print(next(small_value))\n",
    "print(next(small_value))\n",
    "print(next(small_value))\n",
    "\n",
    "# Loop over range(3) and print the values\n",
    "for num in range(3):\n",
    "    print(num)\n",
    "\n",
    "\n",
    "# Create an iterator for range(10 ** 100): googol\n",
    "googol = iter(range(10 ** 100))\n",
    "\n",
    "# Print the first 5 values from googol\n",
    "print(next(googol))\n",
    "print(next(googol))\n",
    "print(next(googol))\n",
    "print(next(googol))\n",
    "print(next(googol))\n"
   ]
  },
  {
   "cell_type": "markdown",
   "metadata": {},
   "source": [
    "### 4.4 Iterators as function arguments\n",
    "You've been using the `iter()` function to get an iterator object, as well as the `next()` function to retrieve the values one by one from the iterator object.\n",
    "\n",
    "There are also functions that take iterators as arguments. For example, the `list()` and `sum()` functions return a list and the sum of elements, respectively.\n",
    "\n",
    "In this exercise, you will use these functions by passing an iterator from `range()` and then printing the results of the function calls.\n",
    "\n",
    "**Instructions**\n",
    "\n",
    "- Create a `range` object that would produce the values from 10 to 20 using `range()`. Assign the result to `values`.\n",
    "- Use the `list()` function to create a list of values from the range object `values`. Assign the result to `values_list`.\n",
    "- Use the `sum()` function to get the sum of the values from 10 to 20 from the range object `values`. Assign the result to `values_sum`."
   ]
  },
  {
   "cell_type": "code",
   "execution_count": null,
   "metadata": {},
   "outputs": [],
   "source": [
    "# Create a range object: values\n",
    "values = range(10,21)\n",
    "\n",
    "# Print the range object\n",
    "print(values)\n",
    "\n",
    "# Create a list of integers: values_list\n",
    "values_list = list(values)\n",
    "\n",
    "# Print values_list\n",
    "print(values_list)\n",
    "\n",
    "# Get the sum of values: values_sum\n",
    "values_sum = sum(values)\n",
    "\n",
    "# Print values_sum\n",
    "print(values_sum)\n"
   ]
  },
  {
   "cell_type": "markdown",
   "metadata": {},
   "source": [
    "### 4.5 Using enumerate\n",
    "You're really getting the hang of using iterators, great job!\n",
    "\n",
    "You've just gained several new ideas on iterators from the last video and one of them is the `enumerate()` function. Recall that `enumerate()` returns an `enumerate` object that produces a sequence of tuples, and each of the tuples is an index-value pair.\n",
    "\n",
    "In this exercise, you are given a list of strings `mutants` and you will practice using `enumerate()` on it by printing out a list of tuples and unpacking the tuples using a `for` loop.\n",
    "\n",
    "**Instructions**\n",
    "\n",
    "- Create a list of tuples from `mutants` and assign the result to `mutant_list`. Make sure you generate the tuples using `enumerate()` and turn the result from it into a list using `list()`.\n",
    "- Complete the first `for` loop by unpacking the tuples generated by calling `enumerate()` on `mutants`. Use `index1` for the index and `value1` for the value when unpacking the tuple.\n",
    "- Complete the second `for` loop similarly as with the first, but this time change the starting index to start from `1` by passing it in as an argument to the `star`t parameter of `enumerate()`. Use `index2` for the index and `value2` for the value when unpacking the tuple."
   ]
  },
  {
   "cell_type": "code",
   "execution_count": null,
   "metadata": {},
   "outputs": [],
   "source": [
    "# Create a list of strings: mutants\n",
    "mutants = ['charles xavier', \n",
    "            'bobby drake', \n",
    "            'kurt wagner', \n",
    "            'max eisenhardt', \n",
    "            'kitty pryde']\n",
    "\n",
    "# Create a list of tuples: mutant_list\n",
    "mutant_list = list(enumerate(mutants))\n",
    "\n",
    "# Print the list of tuples\n",
    "print(mutant_list)\n",
    "\n",
    "# Unpack and print the tuple pairs\n",
    "for index1,value1 in mutant_list:\n",
    "    print(index1, value1)\n",
    "\n",
    "# Change the start index\n",
    "for index2, value2 in enumerate(mutants, start = 1):\n",
    "    print(index2, value2)\n"
   ]
  },
  {
   "cell_type": "markdown",
   "metadata": {},
   "source": [
    "### 4.6 Using zip\n",
    "Another interesting function that you've learned is `zip()`, which takes any number of iterables and returns a `zip` object that is an iterator of tuples. If you wanted to print the values of a `zip` object, you can convert it into a list and then print it. Printing just a `zip` object will not return the values unless you unpack it first. In this exercise, you will explore this for yourself.\n",
    "\n",
    "Three lists of strings are pre-loaded: `mutants`, `aliases`, and `powers`. First, you will use `list()` and `zip()` on these lists to generate a list of tuples. Then, you will create a `zip` object using `zip()`. Finally, you will unpack this `zip` object in a `for` loop to print the values in each tuple. Observe the different output generated by printing the list of tuples, then the `zip` object, and finally, the tuple values in the `for` loop.\n",
    "\n",
    "**Instructions**\n",
    "\n",
    "- Using `zip()` with `list()`, create a list of tuples from the three lists `mutants`, `aliases`, and `powers` (in that order) and assign the result to `mutant_data`.\n",
    "- Using `zip()`, create a `zip` object called `mutant_zip` from the three lists `mutants`, `aliases`, and `powers`.\n",
    "- Complete the `for` loop by unpacking the `zip` object you created and printing the tuple values. Use `value1`, `value2`, `value3` for the values from each of `mutants`, `aliases`, and `powers`, in that order."
   ]
  },
  {
   "cell_type": "code",
   "execution_count": null,
   "metadata": {},
   "outputs": [],
   "source": [
    "aliases = ['prof x', 'iceman', 'nightcrawler', 'magneto', 'shadowcat']\n",
    "powers = ['telepathy', 'thermokinesis', 'teleportation', 'magnetokinesis', 'intangibility']\n",
    "\n",
    "# Create a list of tuples: mutant_data\n",
    "mutant_data = list(zip(mutants, aliases, powers))\n",
    "\n",
    "# Print the list of tuples\n",
    "print(mutant_data)\n",
    "\n",
    "# Create a zip object using the three lists: mutant_zip\n",
    "mutant_zip = zip(mutants, aliases, powers)\n",
    "\n",
    "# Print the zip object\n",
    "print(mutant_zip)\n",
    "\n",
    "# Unpack the zip object and print the tuple values\n",
    "for value1, value2, value3 in mutant_zip:\n",
    "    print(value1, value2, value3)\n"
   ]
  },
  {
   "cell_type": "markdown",
   "metadata": {},
   "source": [
    "### 4.7 Using * and zip to 'unzip'\n",
    "You know how to use `zip()` as well as how to print out values from a `zip` object. Excellent!\n",
    "\n",
    "Let's play around with `zip()` a little more. There is no *unzip* function for doing the reverse of what zip() does. We can, however, reverse what has been zipped together by using zip() with a little help from `*` ! `*` unpacks an iterable such as a list or a tuple into *positional arguments* in a function call.\n",
    "\n",
    "In this exercise, you will use * in a call to zip() to unpack the tuples produced by zip().\n",
    "\n",
    "Two tuples of strings, mutants and powers have been pre-loaded.\n",
    "\n",
    "**Instructions** \n",
    "\n",
    "- Create a `zip` object by using `zip()` on `mutants` and `powers`, in that order. Assign the result to `z1`.\n",
    "- Print the tuples in `z1` by unpacking them into positional arguments using the `*` operator in a `print()` call.\n",
    "- Because the previous `print()` call would have exhausted the elements in `z1`, recreate the `zip` object you defined earlier and assign the result again to `z1`.\n",
    "- 'Unzip' the tuples in `z1` by unpacking them into positional arguments using the `*` operator in a `zip()` call. Assign the results to `result1` and `result2`, in that order.\n",
    "- The last `print()` statements prints the output of comparing `result1` to `mutants` and `result2` to `powers`. Click `Submit Answe` to see if the unpacked `result1` and `result2` are equivalent to `mutants` and `powers`, respectively.\n"
   ]
  },
  {
   "cell_type": "code",
   "execution_count": null,
   "metadata": {},
   "outputs": [],
   "source": [
    "# Create a zip object from mutants and powers: z1\n",
    "z1 = zip(mutants, powers)\n",
    "\n",
    "# Print the tuples in z1 by unpacking with *\n",
    "print(*z1)\n",
    "\n",
    "# Re-create a zip object from mutants and powers: z1\n",
    "z1 = zip(mutants, powers)\n",
    "\n",
    "# 'Unzip' the tuples in z1 by unpacking with * and zip(): result1, result2\n",
    "result1, result2 = zip(*z1)\n",
    "\n",
    "# Check if unpacked tuples are equivalent to original tuples\n",
    "print(result1 == mutants)\n",
    "print(result2 == powers)\n"
   ]
  },
  {
   "cell_type": "markdown",
   "metadata": {},
   "source": [
    "### 4.8 Processing large amounts of Twitter data\n",
    "Sometimes, the data we have to process reaches a size that is too much for a computer's memory to handle. This is a common problem faced by data scientists. A solution to this is to process an entire data source chunk by chunk, instead of a single go all at once.\n",
    "\n",
    "In this exercise, you will do just that. You will process a large csv file of Twitter data in the same way that you processed `'tweets.csv'` in Bringing it all together exercises of the prequel course, but this time, working on it in chunks of 10 entries at a time.\n",
    "\n",
    "If you are interested in learning how to access Twitter data so you can work with it on your own system, refer to Part 2 of the DataCamp course on Importing Data in Python.\n",
    "\n",
    "The pandas package has been imported as `pd` and the file `'tweets.csv'` is in your current directory for your use. Go for it!\n",
    "\n",
    "**Instructions**\n",
    "\n",
    "- Initialize an empty dictionary `counts_dict` for storing the results of processing the Twitter data.\n",
    "- Iterate over the `'tweets.csv'` file by using a `for` loop. Use the loop variable `chunk` and iterate over the call to `pd.read_csv()` with a `chunksize` of 10.\n",
    "- In the inner loop, iterate over the column `'lang'` in `chunk` by using a `for` loop. Use the loop variable `entry`."
   ]
  },
  {
   "cell_type": "code",
   "execution_count": null,
   "metadata": {},
   "outputs": [],
   "source": [
    "import pandas as pd\n",
    "\n",
    "# Initialize an empty dictionary: counts_dict\n",
    "counts_dict = {}\n",
    "\n",
    "# Iterate over the file chunk by chunk\n",
    "for chunk in pd.read_csv('./Data/tweets.csv', chunksize = 10):\n",
    "\n",
    "    # Iterate over the column in DataFrame\n",
    "    for entry in chunk['lang']:\n",
    "        if entry in counts_dict.keys():\n",
    "            counts_dict[entry] += 1\n",
    "        else:\n",
    "            counts_dict[entry] = 1\n",
    "\n",
    "# Print the populated dictionary\n",
    "print(counts_dict)\n"
   ]
  },
  {
   "cell_type": "markdown",
   "metadata": {},
   "source": [
    "### 4.9 Extracting information for large amounts of Twitter data\n",
    "Great job chunking out that file in the previous exercise. You now know how to deal with situations where you need to process a very large file and that's a very useful skill to have!\n",
    "\n",
    "It's good to know how to process a file in smaller, more manageable chunks, but it can become very tedious having to write and rewrite the same code for the same task each time. In this exercise, you will be making your code more reusable by putting your work in the last exercise in a function definition.\n",
    "\n",
    "The pandas package has been imported as `pd` and the file `'tweets.csv'` is in your current directory for your use.\n",
    "\n",
    "**Instructions**\n",
    "\n",
    "- Define the function `count_entries()`, which has 3 parameters. The first parameter is `csv_file` for the filename, the second is `c_size` for the chunk size, and the last is `colname` for the column name.\n",
    "- Iterate over the file in `csv_file` file by using a `for` loop. Use the loop variable `chunk` and iterate over the call to `pd.read_csv()`, passing `c_size` to `chunksize`.\n",
    "- In the inner loop, iterate over the column given by `colname` in `chunk` by using a `for` loop. Use the loop variable `entry`.\n",
    "- Call the `count_entries()` function by passing to it the filename `'tweets.csv'`, the size of chunks `10`, and the name of the column to count, `'lang'`. Assign the result of the call to the variable `result_counts`."
   ]
  },
  {
   "cell_type": "code",
   "execution_count": null,
   "metadata": {},
   "outputs": [],
   "source": [
    "# Define count_entries()\n",
    "def count_entries(csv_file, c_size, colname):\n",
    "    \"\"\"Return a dictionary with counts of\n",
    "    occurrences as value for each key.\"\"\"\n",
    "    \n",
    "    # Initialize an empty dictionary: counts_dict\n",
    "    counts_dict = {}\n",
    "\n",
    "    # Iterate over the file chunk by chunk\n",
    "    for chunk in pd.read_csv(csv_file, chunksize = c_size):\n",
    "\n",
    "        # Iterate over the column in DataFrame\n",
    "        for entry in chunk[colname]:\n",
    "            if entry in counts_dict.keys():\n",
    "                counts_dict[entry] += 1\n",
    "            else:\n",
    "                counts_dict[entry] = 1\n",
    "\n",
    "    # Return counts_dict\n",
    "    return counts_dict\n",
    "\n",
    "# Call count_entries(): result_counts\n",
    "result_counts = count_entries('./data/tweets.csv', 10, 'lang')\n",
    "\n",
    "# Print result_counts\n",
    "print(result_counts)\n"
   ]
  },
  {
   "cell_type": "markdown",
   "metadata": {},
   "source": [
    "## 5. List comprehensions and generators\n",
    "\n",
    "In this chapter, you'll build on your knowledge of iterators and be introduced to list comprehensions, which allow you to create complicated lists and lists of lists in one line of code! List comprehensions can dramatically simplify your code and make it more efficient, and will become a vital part of your Python Data Science toolbox. You'll then learn about generators, which are extremely helpful when working with large sequences of data that you may not want to store in memory but instead generate on the fly.\n"
   ]
  },
  {
   "cell_type": "markdown",
   "metadata": {},
   "source": [
    "### 5.1 Write a basic list comprehension\n",
    "In this exercise, you will practice what you've learned from the video about writing list comprehensions. You will write a list comprehension and identify the output that will be produced.\n",
    "\n",
    "The following list has been pre-loaded in the environment.\n",
    "~~~\n",
    "doctor = ['house', 'cuddy', 'chase', 'thirteen', 'wilson']\n",
    "~~~\n",
    "How would a list comprehension that produces a list of the **first character** of each string in `doctor` look like? Note that the list comprehension uses `doc` as the iterator variable. What will the output be?\n",
    "\n",
    "**Instructions**\n",
    "\n",
    "Answers\n",
    "\n",
    "The list comprehension is [doc[0] for doc in doctor] and produces the list ['h', 'c', 'c', 't', 'w']."
   ]
  },
  {
   "cell_type": "code",
   "execution_count": null,
   "metadata": {},
   "outputs": [],
   "source": [
    "doctor = ['house', 'cuddy', 'chase', 'thirteen', 'wilson']\n",
    "\n",
    "[doc[0] for doc in doctor]"
   ]
  },
  {
   "cell_type": "markdown",
   "metadata": {},
   "source": [
    "### 5.2 List comprehension over iterables\n",
    "You know that list comprehensions can be built over iterables. Given the following objects below, which of these can we build list comprehensions over?\n",
    "~~~\n",
    "doctor = ['house', 'cuddy', 'chase', 'thirteen', 'wilson']\n",
    "\n",
    "range(50)\n",
    "\n",
    "underwood = 'After all, we are nothing more or less than what we choose to reveal.'\n",
    "\n",
    "jean = '24601'\n",
    "\n",
    "flash = ['jay garrick', 'barry allen', 'wally west', 'bart allen']\n",
    "\n",
    "valjean = 24601\n",
    "~~~\n",
    "**Instructions**\n",
    "\n",
    "Possible Answers\n",
    "\n",
    "- You can build list comprehensions over all the objects except the string of number characters `jean`.\n",
    "- You can build list comprehensions over all the objects except the string lists `doctor` and `flash`.\n",
    "- You can build list comprehensions over all the objects except `range(50)`.\n",
    "- **You can build list comprehensions over all the objects except the integer object `valjean`.**"
   ]
  },
  {
   "cell_type": "markdown",
   "metadata": {},
   "source": [
    "### 5.3 Writing list comprehensions\n",
    "You now have all the knowledge necessary to begin writing list comprehensions! Your job in this exercise is to write a list comprehension that produces a list of the squares of the numbers ranging from 0 to 9.\n",
    "\n",
    "**Instructions**\n",
    "\n",
    "- Using the range of numbers from `0` to `9` as your iterable and `i` as your iterator variable, write a list comprehension that produces a list of numbers consisting of the squared values of `i`."
   ]
  },
  {
   "cell_type": "code",
   "execution_count": null,
   "metadata": {},
   "outputs": [],
   "source": [
    "# Create list comprehension: squares\n",
    "squares = [i**2 for i in range(0,10)]\n",
    "print(squares)"
   ]
  },
  {
   "cell_type": "markdown",
   "metadata": {},
   "source": [
    "### 5.3 Nested list comprehensions\n",
    "Great! At this point, you have a good grasp of the basic syntax of list comprehensions. Let's push your code-writing skills a little further. In this exercise, you will be writing a list comprehension within another list comprehension, or nested list comprehensions. It sounds a little tricky, but you can do it!\n",
    "\n",
    "Let's step aside for a while from strings. One of the ways in which lists can be used are in representing multi-dimension objects such as matrices. Matrices can be represented as a list of lists in Python. For example a 5 x 5 matrix with values 0 to 4 in each row can be written as:\n",
    "~~~\n",
    "matrix = [[0, 1, 2, 3, 4],\n",
    "          [0, 1, 2, 3, 4],\n",
    "          [0, 1, 2, 3, 4],\n",
    "          [0, 1, 2, 3, 4],\n",
    "          [0, 1, 2, 3, 4]]\n",
    "~~~          \n",
    "Your task is to recreate this matrix by using nested listed comprehensions. Recall that you can create one of the rows of the matrix with a single list comprehension. To create the list of lists, you simply have to supply the list comprehension as the **output expression** of the overall list comprehension:\n",
    "\n",
    "`[`[*output expression*] `for` *iterator variable* `in` *iterable*`]`\n",
    "\n",
    "Note that here, the *output expression* is itself a list comprehension.\n",
    "\n",
    "**Instructions**\n",
    "\n",
    "- In the inner list comprehension - that is, the **output expression** of the nested list comprehension - create a list of values from `0` to `4` using `range()`. Use `col` as the iterator variable.\n",
    "- In the iterable part of your nested list comprehension, use `range()` to count 5 rows - that is, create a list of values from `0` to `4`. Use `row` as the iterator variable; note that you won't be needing this to create values in the list of lists."
   ]
  },
  {
   "cell_type": "code",
   "execution_count": null,
   "metadata": {},
   "outputs": [],
   "source": [
    "# Create a 5 x 5 matrix using a list of lists: matrix\n",
    "matrix = [[col for col in range(5)] for row in range(5)]\n",
    "\n",
    "# Print the matrix\n",
    "for row in matrix:\n",
    "    print(row)"
   ]
  },
  {
   "cell_type": "markdown",
   "metadata": {},
   "source": [
    "### 5.4 Using conditionals in comprehensions (1)\n",
    "You've been using list comprehensions to build lists of values, sometimes using operations to create these values.\n",
    "\n",
    "An interesting mechanism in list comprehensions is that you can also create lists with values that meet only a certain condition. One way of doing this is by using conditionals on iterator variables. In this exercise, you will do exactly that!\n",
    "\n",
    "Recall from the video that you can apply a conditional statement to test the iterator variable by adding an `if` statement in the optional predicate expression part after the `for` statement in the comprehension:\n",
    "\n",
    "`[` *output expression* `for` *iterator variable* `in` *iterable* `if` *predicate expression* `]`.\n",
    "\n",
    "You will use this recipe to write a list comprehension for this exercise. You are given a list of strings `fellowship` and, using a list comprehension, you will create a list that only includes the members of `fellowship` that have 7 characters or more.\n",
    "\n",
    "**Instructions**\n",
    "\n",
    "- Use `member` as the iterator variable in the list comprehension. For the conditional, use `len()` to evaluate the iterator variable. Note that you only want strings with 7 characters or more."
   ]
  },
  {
   "cell_type": "code",
   "execution_count": null,
   "metadata": {},
   "outputs": [],
   "source": [
    "# Create a list of strings: fellowship\n",
    "fellowship = ['frodo', 'samwise', 'merry', 'aragorn', 'legolas', 'boromir', 'gimli']\n",
    "\n",
    "# Create list comprehension: new_fellowship\n",
    "new_fellowship = [member for member in fellowship if len(member) >= 7]\n",
    "\n",
    "# Print the new list\n",
    "print(new_fellowship)\n"
   ]
  },
  {
   "cell_type": "markdown",
   "metadata": {},
   "source": [
    "### 5.5 Using conditionals in comprehensions (2)\n",
    "In the previous exercise, you used an `if` conditional statement in the predicate expression part of a list comprehension to evaluate an iterator variable. In this exercise, you will use an `if-else` statement on the output expression of the list.\n",
    "\n",
    "You will work on the same list, `fellowship` and, using a list comprehension and an `if-else` conditional statement in the output expression, create a list that keeps members of `fellowship` with 7 or more characters and replaces others with an empty string. Use `member` as the iterator variable in the list comprehension.\n",
    "\n",
    "**Instructions**\n",
    "\n",
    "- In the output expression, keep the string as-is **if** the number of characters is >= 7, **else** replace it with an *empty string* - that is, `''` or `\"\"`."
   ]
  },
  {
   "cell_type": "code",
   "execution_count": null,
   "metadata": {},
   "outputs": [],
   "source": [
    "# Create a list of strings: fellowship\n",
    "fellowship = ['frodo', 'samwise', 'merry', 'aragorn', 'legolas', 'boromir', 'gimli']\n",
    "\n",
    "# Create list comprehension: new_fellowship\n",
    "new_fellowship = [member if len(member) >= 7 else '' for member in fellowship]\n",
    "\n",
    "# Print the new list\n",
    "print(new_fellowship)\n"
   ]
  },
  {
   "cell_type": "markdown",
   "metadata": {},
   "source": [
    "### 5.6 Dict comprehensions\n",
    "Comprehensions aren't relegated merely to the world of lists. There are many other objects you can build using comprehensions, such as dictionaries, pervasive objects in Data Science. You will create a dictionary using the comprehension syntax for this exercise. In this case, the comprehension is called a **dict comprehension**.\n",
    "\n",
    "Recall that the main difference between a list comprehension and a dict comprehension is the use of curly braces `{}` instead of `[]`. Additionally, members of the dictionary are created using a colon `:`, as in `<key> : <value>`.\n",
    "\n",
    "You are given a list of strings `fellowship` and, using a **dict comprehension**, create a dictionary with the members of the list as the keys and the length of each string as the corresponding values.\n",
    "\n",
    "**Instructions**\n",
    "\n",
    "- Create a dict comprehension where the key is a string in `fellowship` and the value is the length of the string. Remember to use the syntax `<key> : <value>` in the output expression part of the comprehension to create the members of the dictionary. Use `member` as the iterator variable."
   ]
  },
  {
   "cell_type": "code",
   "execution_count": null,
   "metadata": {},
   "outputs": [],
   "source": [
    "# Create a list of strings: fellowship\n",
    "fellowship = ['frodo', 'samwise', 'merry', 'aragorn', 'legolas', 'boromir', 'gimli']\n",
    "\n",
    "# Create dict comprehension: new_fellowship\n",
    "new_fellowship = {member : len(member) for member in fellowship}\n",
    "\n",
    "# Print the new list\n",
    "print(new_fellowship)\n"
   ]
  },
  {
   "cell_type": "markdown",
   "metadata": {},
   "source": [
    "### 5.7 List comprehensions vs generators\n",
    "You've seen from the videos that list comprehensions and generator expressions look very similar in their syntax, except for the use of parentheses `()` in generator expressions and brackets `[]`in list comprehensions.\n",
    "\n",
    "In this exercise, you will recall the difference between list comprehensions and generators. To help with that task, the following code has been pre-loaded in the environment:\n",
    "~~~\n",
    "# List of strings\n",
    "fellowship = ['frodo', 'samwise', 'merry', 'aragorn', 'legolas', 'boromir', 'gimli']\n",
    "\n",
    "# List comprehension\n",
    "fellow1 = [member for member in fellowship if len(member) >= 7]\n",
    "\n",
    "# Generator expression\n",
    "\n",
    "fellow2 = (member for member in fellowship if len(member) >= 7)\n",
    "~~~\n",
    "Try to play around with `fellow1` and `fellow2` by figuring out their types and printing out their values. Based on your observations and what you can recall from the video, select from the options below the best description for the difference between list comprehensions and generators.\n",
    "\n",
    "**Instructions**\n",
    "\n",
    "Possible Answers\n",
    "- List comprehensions and generators are not different at all; they are just different ways of writing the same thing.\n",
    "- **A list comprehension produces a list as output, a generator produces a generator object.**\n",
    "- A list comprehension produces a list as output that can be iterated over, a generator produces a generator object that can't be iterated over."
   ]
  },
  {
   "cell_type": "markdown",
   "metadata": {},
   "source": [
    "### 5.8 Write your own generator expressions\n",
    "You are familiar with what generators and generator expressions are, as well as its difference from list comprehensions. In this exercise, you will practice building generator expressions on your own.\n",
    "\n",
    "Recall that generator expressions basically have the same syntax as list comprehensions, except that it uses parentheses `()` instead of brackets `[]`; this should make things feel familiar! Furthermore, if you have ever iterated over a dictionary with `.items()`, or used the `range()` function, for example, you have already encountered and used generators before, without knowing it! When you use these functions, Python creates generators for you behind the scenes.\n",
    "\n",
    "Now, you will start simple by creating a generator object that produces numeric values.\n",
    "\n",
    "**Instructions**\n",
    "\n",
    "- Create a generator object that will produce values from `0` to `30`. Assign the result to `result` and use `num` as the iterator variable in the generator expression.\n",
    "- Print the first `5` values by using `next()` appropriately in `print()`.\n",
    "- Print the rest of the values by using a `for` loop to iterate over the generator object."
   ]
  },
  {
   "cell_type": "code",
   "execution_count": null,
   "metadata": {},
   "outputs": [],
   "source": [
    "# Create generator object: result\n",
    "result = (num for num in range(0,31))\n",
    "\n",
    "# Print the first 5 values\n",
    "print(next(result))\n",
    "print(next(result))\n",
    "print(next(result))\n",
    "print(next(result))\n",
    "print(next(result))\n",
    "\n",
    "# Print the rest of the values\n",
    "for value in result:\n",
    "    print(value)\n"
   ]
  },
  {
   "cell_type": "markdown",
   "metadata": {},
   "source": [
    "### 5.9 Changing the output in generator expressions\n",
    "Great! At this point, you already know how to write a basic generator expression. In this exercise, you will push this idea a little further by adding to the output expression of a generator expression. Because generator expressions and list comprehensions are so alike in syntax, this should be a familiar task for you!\n",
    "\n",
    "You are given a list of strings `lannister` and, using a generator expression, create a generator object that you will iterate over to print its values.\n",
    "\n",
    "**Instructions**\n",
    "\n",
    "- Write a generator expression that will generate the lengths of each string in `lannister`. Use `person` as the iterator variable. Assign the result to `lengths`.\n",
    "- Supply the correct iterable in the `for` loop for printing the values in the generator object."
   ]
  },
  {
   "cell_type": "code",
   "execution_count": null,
   "metadata": {},
   "outputs": [],
   "source": [
    "# Create a list of strings: lannister\n",
    "lannister = ['cersei', 'jaime', 'tywin', 'tyrion', 'joffrey']\n",
    "\n",
    "# Create a generator object: lengths\n",
    "lengths = (len(person) for person in lannister)\n",
    "\n",
    "# Iterate over and print the values in lengths\n",
    "for value in lengths:\n",
    "    print(value)\n"
   ]
  },
  {
   "cell_type": "markdown",
   "metadata": {},
   "source": [
    "### 5.10 Build a generator\n",
    "In previous exercises, you've dealt mainly with writing generator expressions, which uses comprehension syntax. Being able to use comprehension syntax for generator expressions made your work so much easier!\n",
    "\n",
    "Now, recall from the video that not only are there generator expressions, there are generator functions as well. **Generator functions** are functions that, like generator expressions, yield a series of values, instead of returning a single value. A generator function is defined as you do a regular function, but whenever it generates a value, it uses the keyword `yield` instead of `return`.\n",
    "\n",
    "In this exercise, you will create a generator function with a similar mechanism as the generator expression you defined in the previous exercise:\n",
    "~~~\n",
    "lengths = (len(person) for person in lannister)\n",
    "~~~\n",
    "**Instructions**\n",
    "\n",
    "- Complete the function header for the function `get_lengths()` that has a single parameter, `input_list`.\n",
    "- In the `for` loop in the function definition, `yield` the length of the strings in `input_list`.\n",
    "- Complete the iterable part of the `for` loop for printing the values generated by the `get_lengths()` generator function. Supply the call to `get_lengths()`, passing in the list `lannister`."
   ]
  },
  {
   "cell_type": "code",
   "execution_count": null,
   "metadata": {},
   "outputs": [],
   "source": [
    "# Create a list of strings\n",
    "lannister = ['cersei', 'jaime', 'tywin', 'tyrion', 'joffrey']\n",
    "\n",
    "# Define generator function get_lengths\n",
    "def get_lengths(input_list):\n",
    "    \"\"\"Generator function that yields the\n",
    "    length of the strings in input_list.\"\"\"\n",
    "\n",
    "    # Yield the length of a string\n",
    "    for person in input_list:\n",
    "        yield len(person)\n",
    "\n",
    "# Print the values generated by get_lengths()\n",
    "for value in get_lengths(lannister):\n",
    "    print(value)"
   ]
  },
  {
   "cell_type": "markdown",
   "metadata": {},
   "source": [
    "### 5.11 List comprehensions for time-stamped data\n",
    "You will now make use of what you've learned from this chapter to solve a simple data extraction problem. You will also be introduced to a data structure, the pandas **Series**, in this exercise. We won't elaborate on it much here, but what you should know is that it is a data structure that you will be working with a lot of times when analyzing data from pandas DataFrames. You can think of DataFrame columns as single-dimension arrays called Series.\n",
    "\n",
    "In this exercise, you will be using a list comprehension to extract the time from time-stamped Twitter data. The pandas package has been imported as `pd` and the file `'tweets.csv'` has been imported as the `df` DataFrame for your use.\n",
    "\n",
    "**Instructions**\n",
    "\n",
    "- Extract the column `'created_at'` from `df` and assign the result to `tweet_time`. Fun fact: the extracted column in `tweet_time` here is a Series data structure!\n",
    "- Create a list comprehension that extracts the time from each row in `tweet_time`. Each row is a string that represents a timestamp, and you will access the 12th to 19th characters in the string to extract the time. Use `entry` as the iterator variable and assign the result to `tweet_clock_time`. Remember that Python uses 0-based indexing!"
   ]
  },
  {
   "cell_type": "code",
   "execution_count": null,
   "metadata": {},
   "outputs": [],
   "source": [
    "import pandas as pd\n",
    "df = pd.read_csv('Data/tweets.csv')\n",
    "\n",
    "# Extract the created_at column from df: tweet_time\n",
    "tweet_time = df['created_at']\n",
    "\n",
    "# Extract the clock time: tweet_clock_time\n",
    "tweet_clock_time = [entry[11:19] for entry in tweet_time]\n",
    "\n",
    "# Print the extracted times\n",
    "print(tweet_clock_time)\n"
   ]
  },
  {
   "cell_type": "markdown",
   "metadata": {},
   "source": [
    "### 5.12 Conditional list comprehensions for time-stamped data\n",
    "Great, you've successfully extracted the data of interest, the time, from a pandas DataFrame! Let's tweak your work further by adding a conditional that further specifies which entries to select.\n",
    "\n",
    "In this exercise, you will be using a list comprehension to extract the time from time-stamped Twitter data. You will add a conditional expression to the list comprehension so that you only select the times in which `entry[17:19]` is equal to `'19'`. The pandas package has been imported as `pd` and the file `'tweets.csv'` has been imported as the `df` DataFrame for your use.\n",
    "\n",
    "**Instructions**\n",
    "\n",
    "- Extract the column `'created_at'` from `df` and assign the result to `tweet_time`.\n",
    "- Create a list comprehension that extracts the time from each row in `tweet_time`. Each row is a string that represents a timestamp, and you will access the 12th to 19th characters in the string to extract the time. Use `entry` as the iterator variable and assign the result to `tweet_clock_time`. Additionally, add a conditional expression that checks whether `entry[17:19]` is equal to `'19'`"
   ]
  },
  {
   "cell_type": "code",
   "execution_count": null,
   "metadata": {},
   "outputs": [],
   "source": [
    "# Extract the created_at column from df: tweet_time\n",
    "tweet_time = df['created_at']\n",
    "\n",
    "# Extract the clock time: tweet_clock_time\n",
    "tweet_clock_time = [entry[11:19] for entry in tweet_time if entry[17:19] == '19']\n",
    "\n",
    "# Print the extracted times\n",
    "print(tweet_clock_time)\n"
   ]
  },
  {
   "cell_type": "markdown",
   "metadata": {},
   "source": [
    "### 6. Bringing it all together!\n",
    "\n",
    "This chapter will allow you to apply your newly acquired skills towards wrangling and extracting meaningful information from a real-world dataset - the World Bank's World Development Indicators dataset! You'll have the chance to write your own functions and list comprehensions as you work with iterators and generators and solidify your Python Data Science chops. Enjoy!"
   ]
  },
  {
   "cell_type": "markdown",
   "metadata": {},
   "source": [
    "### 6.1 Dictionaries for data science\n",
    "For this exercise, you'll use what you've learned about the `zip()` function and combine two lists into a dictionary.\n",
    "\n",
    "These lists are actually extracted from a bigger dataset file of world development indicators from the World Bank. For pedagogical purposes, we have pre-processed this dataset into the lists that you'll be working with.\n",
    "\n",
    "The first list `feature_names` contains header names of the dataset and the second list `row_vals` contains actual values of a row from the dataset, corresponding to each of the header names.\n",
    "\n",
    "**Instructions**\n",
    "\n",
    "- Create a zip object by calling `zip()` and passing to it `feature_names` and `row_vals`. Assign the result to `zipped_lists`.\n",
    "- Create a dictionary from the `zipped_lists` zip object by calling `dict()` with `zipped_lists`. Assign the resulting dictionary to `rs_dict`.\n"
   ]
  },
  {
   "cell_type": "code",
   "execution_count": null,
   "metadata": {},
   "outputs": [],
   "source": [
    "feature_names = ['CountryName', 'CountryCode', 'IndicatorName'\n",
    "                 , 'IndicatorCode', 'Year', 'Value']\n",
    "row_vals = ['Arab World', 'ARB', \n",
    "            'Adolescent fertility rate (births per 1,000 women ages 15-19)',\n",
    "            'SP.ADO.TFRT', '1960', '133.56090740552298']\n",
    "\n",
    "# Zip lists: zipped_lists\n",
    "zipped_lists = zip(feature_names, row_vals)\n",
    "\n",
    "# Create a dictionary: rs_dict\n",
    "rs_dict = dict(zipped_lists)\n",
    "\n",
    "# Print the dictionary\n",
    "print(rs_dict)"
   ]
  },
  {
   "cell_type": "markdown",
   "metadata": {},
   "source": [
    "### 6.2 Writing a function to help you\n",
    "Suppose you needed to repeat the same process done in the previous exercise to many, many rows of data. Rewriting your code again and again could become very tedious, repetitive, and unmaintainable.\n",
    "\n",
    "In this exercise, you will create a function to house the code you wrote earlier to make things easier and much more concise. Why? This way, you only need to call the function and supply the appropriate lists to create your dictionaries! Again, the lists `feature_names` and `row_vals` are preloaded and these contain the header names of the dataset and actual values of a row from the dataset, respectively.\n",
    "\n",
    "**Instructions**\n",
    "\n",
    "- Define the function `lists2dict()` with two parameters: first is `list1` and second is `list2`.\n",
    "- Return the resulting dictionary `rs_dict` in `lists2dict()`.\n",
    "- Call the `lists2dict()` function with the arguments `feature_names` and `row_vals`. Assign the result of the function call to `rs_fxn`."
   ]
  },
  {
   "cell_type": "code",
   "execution_count": null,
   "metadata": {},
   "outputs": [],
   "source": [
    "# Define lists2dict()\n",
    "def lists2dict(list1, list2):\n",
    "    \"\"\"Return a dictionary where list1 provides\n",
    "    the keys and list2 provides the values.\"\"\"\n",
    "\n",
    "    # Zip lists: zipped_lists\n",
    "    zipped_lists = zip(list1, list2)\n",
    "\n",
    "    # Create a dictionary: rs_dict\n",
    "    rs_dict = dict(zipped_lists)\n",
    "\n",
    "    # Return the dictionary\n",
    "    return rs_dict\n",
    "\n",
    "# Call lists2dict: rs_fxn\n",
    "rs_fxn = lists2dict(feature_names, row_vals)\n",
    "\n",
    "# Print rs_fxn\n",
    "print(rs_fxn)"
   ]
  },
  {
   "cell_type": "markdown",
   "metadata": {},
   "source": [
    "### 6.3 Using a list comprehension\n",
    "This time, you're going to use the `lists2dict()` function you defined in the last exercise to turn a bunch of lists into a list of dictionaries with the help of a list comprehension.\n",
    "\n",
    "The `lists2dict()` function has already been preloaded, together with a couple of lists, `feature_names` and `row_lists`. `feature_names` contains the header names of the World Bank dataset and `row_lists` is a list of lists, where each sublist is a list of actual values of a row from the dataset.\n",
    "\n",
    "Your goal is to use a list comprehension to generate a list of dicts, where the keys are the header names and the values are the row entries.\n",
    "\n",
    "**Instructions**\n",
    "\n",
    "- Inspect the contents of `row_lists` by printing the first two lists in `row_lists`.\n",
    "- Create a list comprehension that generates a dictionary using `lists2dict()` for each sublist in `row_lists`. The keys are from the `feature_names` list and the values are the row entries in `row_lists`. Use `sublist` as your iterator variable and assign the resulting list of dictionaries to `list_of_dicts`.\n",
    "- Look at the first two dictionaries in `list_of_dicts` by printing them out."
   ]
  },
  {
   "cell_type": "code",
   "execution_count": null,
   "metadata": {},
   "outputs": [],
   "source": [
    "row_lists = [['Arab World',\n",
    "  'ARB', 'Adolescent fertility rate (births per 1,000 women ages 15-19)',\n",
    "  'SP.ADO.TFRT', '1960',\n",
    "  '133.56090740552298'],\n",
    " ['Arab World',  'ARB',\n",
    "  'Age dependency ratio (% of working-age population)',\n",
    "  'SP.POP.DPND',  '1960',\n",
    "  '87.7976011532547'],\n",
    " ['Arab World',  'ARB',\n",
    "  'Age dependency ratio, old (% of working-age population)',\n",
    "  'SP.POP.DPND.OL',  '1960',\n",
    "  '6.634579191565161'],\n",
    " ['Arab World',\n",
    "  'ARB',\n",
    "  'Age dependency ratio, young (% of working-age population)',\n",
    "  'SP.POP.DPND.YG',\n",
    "  '1960',\n",
    "  '81.02332950839141'],\n",
    " ['Arab World',\n",
    "  'ARB',\n",
    "  'Arms exports (SIPRI trend indicator values)',\n",
    "  'MS.MIL.XPRT.KD',\n",
    "  '1960',\n",
    "  '3000000.0'],\n",
    " ['Arab World',\n",
    "  'ARB',\n",
    "  'Arms imports (SIPRI trend indicator values)',\n",
    "  'MS.MIL.MPRT.KD',\n",
    "  '1960',\n",
    "  '538000000.0'],\n",
    " ['Arab World',\n",
    "  'ARB',\n",
    "  'Birth rate, crude (per 1,000 people)',\n",
    "  'SP.DYN.CBRT.IN',\n",
    "  '1960',\n",
    "  '47.697888095096395'],\n",
    " ['Arab World',\n",
    "  'ARB',\n",
    "  'CO2 emissions (kt)',\n",
    "  'EN.ATM.CO2E.KT',\n",
    "  '1960',\n",
    "  '59563.9892169935'],\n",
    " ['Arab World',\n",
    "  'ARB',\n",
    "  'CO2 emissions (metric tons per capita)',\n",
    "  'EN.ATM.CO2E.PC',\n",
    "  '1960',\n",
    "  '0.6439635478877049'],\n",
    " ['Arab World',\n",
    "  'ARB',\n",
    "  'CO2 emissions from gaseous fuel consumption (% of total)',\n",
    "  'EN.ATM.CO2E.GF.ZS',\n",
    "  '1960',\n",
    "  '5.041291753975099'],\n",
    " ['Arab World',\n",
    "  'ARB',\n",
    "  'CO2 emissions from liquid fuel consumption (% of total)',\n",
    "  'EN.ATM.CO2E.LF.ZS',\n",
    "  '1960',\n",
    "  '84.8514729446567'],\n",
    " ['Arab World',\n",
    "  'ARB',\n",
    "  'CO2 emissions from liquid fuel consumption (kt)',\n",
    "  'EN.ATM.CO2E.LF.KT',\n",
    "  '1960',\n",
    "  '49541.707291032304'],\n",
    " ['Arab World',\n",
    "  'ARB',\n",
    "  'CO2 emissions from solid fuel consumption (% of total)',\n",
    "  'EN.ATM.CO2E.SF.ZS',\n",
    "  '1960',\n",
    "  '4.72698138789597'],\n",
    " ['Arab World',\n",
    "  'ARB',\n",
    "  'Death rate, crude (per 1,000 people)',\n",
    "  'SP.DYN.CDRT.IN',\n",
    "  '1960',\n",
    "  '19.7544519237187'],\n",
    " ['Arab World',\n",
    "  'ARB',\n",
    "  'Fertility rate, total (births per woman)',\n",
    "  'SP.DYN.TFRT.IN',\n",
    "  '1960',\n",
    "  '6.92402738655897'],\n",
    " ['Arab World',\n",
    "  'ARB',\n",
    "  'Fixed telephone subscriptions',\n",
    "  'IT.MLT.MAIN',\n",
    "  '1960',\n",
    "  '406833.0'],\n",
    " ['Arab World',\n",
    "  'ARB',\n",
    "  'Fixed telephone subscriptions (per 100 people)',\n",
    "  'IT.MLT.MAIN.P2',\n",
    "  '1960',\n",
    "  '0.6167005703199'],\n",
    " ['Arab World',\n",
    "  'ARB',\n",
    "  'Hospital beds (per 1,000 people)',\n",
    "  'SH.MED.BEDS.ZS',\n",
    "  '1960',\n",
    "  '1.9296220724398703'],\n",
    " ['Arab World',\n",
    "  'ARB',\n",
    "  'International migrant stock (% of population)',\n",
    "  'SM.POP.TOTL.ZS',\n",
    "  '1960',\n",
    "  '2.9906371279862403'],\n",
    " ['Arab World',\n",
    "  'ARB',\n",
    "  'International migrant stock, total',\n",
    "  'SM.POP.TOTL',\n",
    "  '1960',\n",
    "  '3324685.0']]\n"
   ]
  },
  {
   "cell_type": "code",
   "execution_count": null,
   "metadata": {},
   "outputs": [],
   "source": [
    "# Print the first two lists in row_lists\n",
    "print(row_lists[0])\n",
    "print(row_lists[1])\n",
    "\n",
    "# Turn list of lists into list of dicts: list_of_dicts\n",
    "list_of_dicts = [lists2dict(feature_names, sublist) for sublist in row_lists]\n",
    "\n",
    "# Print the first two dictionaries in list_of_dicts\n",
    "print(list_of_dicts[0])\n",
    "print(list_of_dicts[1])"
   ]
  },
  {
   "cell_type": "markdown",
   "metadata": {},
   "source": [
    "### 6.4 Turning this all into a DataFrame\n",
    "You've zipped lists together, created a function to house your code, and even used the function in a list comprehension to generate a list of dictionaries. That was a lot of work and you did a great job!\n",
    "\n",
    "You will now use of all these to convert the list of dictionaries into a pandas DataFrame. You will see how convenient it is to generate a DataFrame from dictionaries with the `DataFrame()` function from the pandas package.\n",
    "\n",
    "The `lists2dict()` function, feature_names list, and `row_lists` list have been preloaded for this exercise.\n",
    "\n",
    "Go for it!\n",
    "\n",
    "**Instructions**\n",
    "\n",
    "- To use the `DataFrame()` function you need, first import the pandas package with the alias `pd`.\n",
    "- Create a DataFrame from the list of dictionaries in `list_of_dicts` by calling `pd.DataFrame()`. Assign the resulting DataFrame to `df`.\n",
    "- Inspect the contents of `df` by printing the head of the DataFrame."
   ]
  },
  {
   "cell_type": "code",
   "execution_count": null,
   "metadata": {},
   "outputs": [],
   "source": [
    "# Import the pandas package\n",
    "import pandas as pd\n",
    "\n",
    "# Turn list of lists into list of dicts: list_of_dicts\n",
    "list_of_dicts = [lists2dict(feature_names, sublist) for sublist in row_lists]\n",
    "\n",
    "# Turn list of dicts into a DataFrame: df\n",
    "df = pd.DataFrame(list_of_dicts)\n",
    "\n",
    "# Print the head of the DataFrame\n",
    "print(df.head())\n"
   ]
  },
  {
   "cell_type": "markdown",
   "metadata": {},
   "source": [
    "### 6.5 Processing data in chunks (1)\n",
    "Sometimes, data sources can be so large in size that storing the entire dataset in memory becomes too resource-intensive. In this exercise, you will process the first 1000 rows of a file line by line, to create a dictionary of the counts of how many times each country appears in a column in the dataset.\n",
    "\n",
    "The csv file `'world_dev_ind.csv'` is in your current directory for your use. To begin, you need to open a connection to this file using what is known as a context manager. For example, the command with \n",
    "~~~\n",
    "open('datacamp.csv') as datacamp \n",
    "~~~\n",
    "binds the csv file `'datacamp.csv'` as `datacamp` in the context manager. Here, the `with` statement is the context manager, and its purpose is to ensure that resources are efficiently allocated when opening a connection to a file.\n",
    "\n",
    "If you'd like to learn more about context managers, refer to the DataCamp course on Importing Data in Python.\n",
    "\n",
    "**Instructions**\n",
    "\n",
    "- Use `open()` to bind the csv file `'world_dev_ind.csv'` as `file` in the context manager.\n",
    "- Complete the `for` loop so that it iterates **1000** times to perform the loop body and process only the first 1000 rows of data of the file."
   ]
  },
  {
   "cell_type": "code",
   "execution_count": null,
   "metadata": {},
   "outputs": [],
   "source": [
    "# Open a connection to the file\n",
    "with open ('./Data/world_dev_ind.csv') as file:\n",
    "\n",
    "    # Skip the column names\n",
    "    file.readline()\n",
    "\n",
    "    # Initialize an empty dictionary: counts_dict\n",
    "    counts_dict = {}\n",
    "\n",
    "    # Process only the first 1000 rows\n",
    "    for j in range(0, 1000):\n",
    "\n",
    "        # Split the current line into a list: line\n",
    "        line = file.readline().split(',')\n",
    "\n",
    "        # Get the value for the first column: first_col\n",
    "        first_col = line[0]\n",
    "\n",
    "        # If the column value is in the dict, increment its value\n",
    "        if first_col in counts_dict.keys():\n",
    "            counts_dict[first_col] += 1\n",
    "\n",
    "        # Else, add to the dict and set value to 1\n",
    "        else:\n",
    "            counts_dict[first_col] = 1\n",
    "\n",
    "# Print the resulting dictionary\n",
    "print(counts_dict)"
   ]
  },
  {
   "cell_type": "markdown",
   "metadata": {},
   "source": [
    "### 6.6 Writing a generator to load data in chunks (2)\n",
    "In the previous exercise, you processed a file line by line for a given number of lines. What if, however, you want to do this for the entire file?\n",
    "\n",
    "In this case, it would be useful to use **generators**. Generators allow users to lazily evaluate data. This concept of lazy evaluation is useful when you have to deal with very large datasets because it lets you generate values in an efficient manner by yielding only chunks of data at a time instead of the whole thing at once.\n",
    "\n",
    "In this exercise, you will define a generator function `read_large_file()` that produces a generator object which yields a single line from a file each time `next()` is called on it. The csv file `'world_dev_ind.csv'` is in your current directory for your use.\n",
    "\n",
    "Note that when you open a connection to a file, the resulting file object is already a generator! So out in the wild, you won't have to explicitly create generator objects in cases such as this. However, for pedagogical reasons, we are having you practice how to do this here with the `read_large_file()` function. Go for it!\n",
    "\n",
    "**Instructions**\n",
    "\n",
    "- In the function `read_large_file()`, read a line from `file_object` by using the method `readline()`. Assign the result to `data`.\n",
    "- In the function `read_large_file()`, `yield` the line read from the file `data`.\n",
    "- In the context manager, create a generator object `gen_file` by calling your generator function `read_large_file()` and passing `file` to it.\n",
    "- Print the first three lines produced by the generator object `gen_file` using `next()`."
   ]
  },
  {
   "cell_type": "code",
   "execution_count": null,
   "metadata": {},
   "outputs": [],
   "source": [
    "# Define read_large_file()\n",
    "def read_large_file(file_object):\n",
    "    \"\"\"A generator function to read a large file lazily.\"\"\"\n",
    "\n",
    "    # Loop indefinitely until the end of the file\n",
    "    while True:\n",
    "\n",
    "        # Read a line from the file: data\n",
    "        data = file_object.readline()\n",
    "\n",
    "        # Break if this is the end of the file\n",
    "        if not data:\n",
    "            break\n",
    "\n",
    "        # Yield the line of data\n",
    "        yield data\n",
    "        \n",
    "# Open a connection to the file\n",
    "with open('./Data/world_dev_ind.csv') as file:\n",
    "\n",
    "    # Create a generator object for the file: gen_file\n",
    "    gen_file = read_large_file(file)\n",
    "\n",
    "    # Print the first three lines of the file\n",
    "    print(next(gen_file))\n",
    "    print(next(gen_file))\n",
    "    print(next(gen_file))"
   ]
  },
  {
   "cell_type": "markdown",
   "metadata": {},
   "source": [
    "### 6.7 Writing a generator to load data in chunks (3)\n",
    "Great! You've just created a generator function that you can use to help you process large files.\n",
    "\n",
    "Now let's use your generator function to process the World Bank dataset like you did previously. You will process the file line by line, to create a dictionary of the counts of how many times each country appears in a column in the dataset. For this exercise, however, you won't process just 1000 rows of data, you'll process the entire dataset!\n",
    "\n",
    "The generator function `read_large_file()` and the csv file `'world_dev_ind.csv'` are preloaded and ready for your use. Go for it!\n",
    "\n",
    "**Instructions**\n",
    "\n",
    "- Bind the file `'world_dev_ind.csv'` to `file` in the context manager with `open()`.\n",
    "- Complete the `for` loop so that it iterates over the generator from the call to `read_large_file()` to process all the rows of the file.\n"
   ]
  },
  {
   "cell_type": "code",
   "execution_count": null,
   "metadata": {},
   "outputs": [],
   "source": [
    "# Initialize an empty dictionary: counts_dict\n",
    "counts_dict = {}\n",
    "\n",
    "# Open a connection to the file\n",
    "with open ('./Data/world_dev_ind.csv') as file:\n",
    "\n",
    "    # Iterate over the generator from read_large_file()\n",
    "    for line in read_large_file(file):\n",
    "\n",
    "        row = line.split(',')\n",
    "        first_col = row[0]\n",
    "\n",
    "        if first_col in counts_dict.keys():\n",
    "            counts_dict[first_col] += 1\n",
    "        else:\n",
    "            counts_dict[first_col] = 1\n",
    "\n",
    "# Print            \n",
    "print(counts_dict)"
   ]
  },
  {
   "cell_type": "markdown",
   "metadata": {},
   "source": [
    "### 6.8 Writing an iterator to load data in chunks (1)\n",
    "Another way to read data too large to store in memory in chunks is to read the file in as DataFrames of a certain length, say, 100. For example, with the pandas package (imported as `pd`), you can do \n",
    "~~~\n",
    "pd.read_csv(filename, chunksize=100)\n",
    "~~~\n",
    ". This creates an **iterable reader** object, which means that you can use `next()` on it.\n",
    "\n",
    "In this exercise, you will read a file in small DataFrame chunks with `read_csv()`. You're going to use the World Bank Indicators data `'ind_pop.csv'`, available in your current directory, to look at the urban population indicator for numerous countries and years.\n",
    "\n",
    "**Instructions**\n",
    "\n",
    "- Use `pd.read_csv()` to read in `'ind_pop.csv'` in chunks of size 10. Assign the result to `df_reader.\n",
    "- Print the first two chunks from `df_reader`."
   ]
  },
  {
   "cell_type": "code",
   "execution_count": null,
   "metadata": {},
   "outputs": [],
   "source": [
    "# Import the pandas package\n",
    "import pandas as pd\n",
    "\n",
    "# Initialize reader object: df_reader\n",
    "df_reader = pd.read_csv('./Data/world_dev_ind.csv', chunksize=10)\n",
    "\n",
    "# Print two chunks\n",
    "print(next(df_reader))\n",
    "print(next(df_reader))\n"
   ]
  },
  {
   "cell_type": "markdown",
   "metadata": {},
   "source": [
    "### 6.9 Writing an iterator to load data in chunks (2)\n",
    "In the previous exercise, you used `read_csv()` to read in DataFrame chunks from a large dataset. In this exercise, you will read in a file using a bigger DataFrame chunk size and then process the data from the first chunk.\n",
    "\n",
    "To process the data, you will create another DataFrame composed of only the rows from a specific country. You will then zip together two of the columns from the new DataFrame, `'Total Population'` and `'Urban population (% of total)'`. Finally, you will create a list of tuples from the zip object, where each tuple is composed of a value from each of the two columns mentioned.\n",
    "\n",
    "You're going to use the data from `'ind_pop_data.csv'`, available in your current directory. Pandas has been imported as pd.\n",
    "\n",
    "**Instructions**\n",
    "\n",
    "- Use `pd.read_csv()` to read in the file in `'ind_pop_data.csv'` in chunks of size `1000`. Assign the result to `urb_pop_reader`.\n",
    "- Get the first DataFrame chunk from the iterable `urb_pop_reader` and assign this to `df_urb_pop`.\n",
    "- Select only the rows of `df_urb_pop` that have a `'CountryCode'` of `'CEB'`. To do this, compare whether `df_urb_pop['CountryCode']` is equal to `'CEB'` within the square brackets in `df_urb_pop[____]`.\n",
    "- Using `zip()`, zip together the `'Total Population'` and `'Urban population (% of total)'` columns of `df_pop_ceb`. Assign the resulting zip object to `pops`."
   ]
  },
  {
   "cell_type": "code",
   "execution_count": null,
   "metadata": {},
   "outputs": [],
   "source": [
    "# Initialize reader object: urb_pop_reader\n",
    "urb_pop_reader = pd.read_csv('./Data/world_dev_ind.csv', chunksize = 1000)\n",
    "\n",
    "# Get the first DataFrame chunk: df_urb_pop\n",
    "df_urb_pop = next(urb_pop_reader)\n",
    "\n",
    "# Check out the head of the DataFrame\n",
    "print(df_urb_pop.head())\n",
    "\n",
    "# Check out specific country: df_pop_ceb\n",
    "df_pop_ceb = df_urb_pop[df_urb_pop['CountryCode'] == 'CEB']\n",
    "\n",
    "# Zip DataFrame columns of interest: pops\n",
    "pops = zip(df_pop_ceb['Total Population'], df_pop_ceb['Urban population (% of total)'])\n",
    "\n",
    "# Turn zip object into list: pops_list\n",
    "pops_list = list(pops)\n",
    "\n",
    "# Print pops_list\n",
    "print(pops_list)"
   ]
  },
  {
   "cell_type": "markdown",
   "metadata": {},
   "source": [
    "### 6.10 Writing an iterator to load data in chunks (3)\n",
    "You're getting used to reading and processing data in chunks by now. Let's push your skills a little further by adding a column to a DataFrame.\n",
    "\n",
    "Starting from the code of the previous exercise, you will be using a list comprehension to create the values for a new column `'Total Urban Population'` from the list of tuples that you generated earlier. Recall from the previous exercise that the first and second elements of each tuple consist of, respectively, values from the columns `'Total Population'` and `'Urban population (% of total)'`. The values in this new column `'Total Urban Population'`, therefore, are the product of the first and second element in each tuple. Furthermore, because the 2nd element is a percentage, you need to divide the entire result by `100`, or alternatively, multiply it by `0.01`.\n",
    "\n",
    "You will also plot the data from this new column to create a visualization of the urban population data.\n",
    "\n",
    "The packages `pandas` and `matplotlib.pyplot` have been imported as `pd` and `plt` respectively for your use.\n",
    "\n",
    "**Instructions**\n",
    "\n",
    "- Write a list comprehension to generate a list of values from `pops_list` for the new column `'Total Urban Population'`. The output expression should be the product of the first and second element in each tuple in `pops_list`. Because the 2nd element is a percentage, you also need to either multiply the result by `0.01` or divide it by `100`. In addition, note that the column `'Total Urban Population'` should only be able to take on integer values. To ensure this, make sure you cast the output expression to an integer with `int()`.\n",
    "- Create a scatter plot where the x-axis are values from the `'Year'` column and the y-axis are values from the `'Total Urban Population'` column."
   ]
  },
  {
   "cell_type": "code",
   "execution_count": null,
   "metadata": {},
   "outputs": [],
   "source": [
    "import pandas as pd\n",
    "# Code from previous exercise\n",
    "urb_pop_reader = pd.read_csv('./Data/world_dev_ind.csv', chunksize=1000)\n",
    "df_urb_pop = next(urb_pop_reader)\n",
    "df_pop_ceb = df_urb_pop[df_urb_pop['CountryCode'] == 'CEB']\n",
    "pops = zip(df_pop_ceb['Total Population'], \n",
    "           df_pop_ceb['Urban population (% of total)'])\n",
    "pops_list = list(pops)\n",
    "\n",
    "# Use list comprehension to create new DataFrame column 'Total Urban Population'\n",
    "df_pop_ceb['Total Urban Population'] = [int(pop[0]* pop[1]/100) for pop in pops_list]\n",
    "\n",
    "# Plot urban population data\n",
    "df_pop_ceb.plot(kind='scatter' , x='Year', y='Total Urban Population')\n",
    "#plt.show()"
   ]
  },
  {
   "cell_type": "markdown",
   "metadata": {},
   "source": [
    "### 6.11 Writing an iterator to load data in chunks (4)\n",
    "In the previous exercises, you've only processed the data from the first DataFrame chunk. This time, you will aggregate the results over all the DataFrame chunks in the dataset. This basically means you will be processing the entire dataset now. This is neat because you're going to be able to process the entire large dataset by just working on smaller pieces of it!\n",
    "\n",
    "You're going to use the data from `'ind_pop_data.csv'`, available in your current directory. The packages `pandas` and `matplotlib.pyplot` have been imported as pd and plt respectively for your use.\n",
    "\n",
    "**Instructions**\n",
    "\n",
    "- Initialize an empty DataFrame `data` using `pd.DataFrame()`.\n",
    "- In the `for` loop, iterate over `urb_pop_reader` to be able to process all the DataFrame chunks in the dataset.\n",
    "- Using `append()` on `data`, append `df_pop_ceb` to `data`."
   ]
  },
  {
   "cell_type": "code",
   "execution_count": null,
   "metadata": {},
   "outputs": [],
   "source": [
    "# Initialize reader object: urb_pop_reader\n",
    "urb_pop_reader = pd.read_csv('./Data/world_dev_ind.csv', chunksize=1000)\n",
    "\n",
    "# Initialize empty DataFrame: data\n",
    "data = pd.DataFrame()\n",
    "\n",
    "# Iterate over each DataFrame chunk\n",
    "for df_urb_pop in urb_pop_reader:\n",
    "\n",
    "    # Check out specific country: df_pop_ceb\n",
    "    df_pop_ceb = df_urb_pop[df_urb_pop['CountryCode'] == 'CEB']\n",
    "\n",
    "    # Zip DataFrame columns of interest: pops\n",
    "    pops = zip(df_pop_ceb['Total Population'],\n",
    "                df_pop_ceb['Urban population (% of total)'])\n",
    "\n",
    "    # Turn zip object into list: pops_list\n",
    "    pops_list = list(pops)\n",
    "\n",
    "    # Use list comprehension to create new DataFrame column 'Total Urban Population'\n",
    "    df_pop_ceb['Total Urban Population'] = [int(tup[0] * tup[1] * 0.01) for tup in pops_list]\n",
    "    \n",
    "    # Append DataFrame chunk to data: data\n",
    "    data = data.append(df_pop_ceb)\n",
    "\n",
    "# Plot urban population data\n",
    "data.plot(kind='scatter', x='Year', y='Total Urban Population')\n",
    "#plt.show()\n"
   ]
  },
  {
   "cell_type": "markdown",
   "metadata": {},
   "source": [
    "### 6.12 Writing an iterator to load data in chunks (5)\n",
    "This is the last leg. You've learned a lot about processing a large dataset in chunks. In this last exercise, you will put all the code for processing the data into a single function so that you can reuse the code without having to rewrite the same things all over again.\n",
    "\n",
    "You're going to define the function `plot_pop()` which takes two arguments: the filename of the file to be processed, and the country code of the rows you want to process in the dataset.\n",
    "\n",
    "Because all of the previous code you've written in the previous exercises will be housed in `plot_pop()`, calling the function already does the following:\n",
    "\n",
    "Loading of the file chunk by chunk,\n",
    "Creating the new column of urban population values, and\n",
    "Plotting the urban population data.\n",
    "That's a lot of work, but the function now makes it convenient to repeat the same process for whatever file and country code you want to process and visualize!\n",
    "\n",
    "You're going to use the data from `'ind_pop_data.csv'`, available in your current directory. The packages pandas and matplotlib.pyplot has been imported as `pd` and `plt` respectively for your use.\n",
    "\n",
    "After you are done, take a moment to look at the plots and reflect on the new skills you have acquired. The journey doesn't end here! If you have enjoyed working with this data, you can continue exploring it using the pre-processed version available on Kaggle.\n",
    "\n",
    "**Instructions**\n",
    "\n",
    "- Define the function `plot_pop()` that has two arguments: first is `filename` for the file to process and second is `country_code` for the country to be processed in the dataset.\n",
    "- Call `plot_pop()` to process the data for country code `'CEB'` in the file `'ind_pop_data.csv'`.\n",
    "- Call `plot_pop()` to process the data for country code `'ARB'` in the file `'ind_pop_data.csv'`."
   ]
  },
  {
   "cell_type": "code",
   "execution_count": null,
   "metadata": {},
   "outputs": [],
   "source": [
    "# Define plot_pop()\n",
    "def plot_pop(filename, country_code):\n",
    "\n",
    "    # Initialize reader object: urb_pop_reader\n",
    "    urb_pop_reader = pd.read_csv(filename, chunksize=1000)\n",
    "\n",
    "    # Initialize empty DataFrame: data\n",
    "    data = pd.DataFrame()\n",
    "    \n",
    "    # Iterate over each DataFrame chunk\n",
    "    for df_urb_pop in urb_pop_reader:\n",
    "        # Check out specific country: df_pop_ceb\n",
    "        df_pop_ceb = df_urb_pop[df_urb_pop['CountryCode'] == country_code]\n",
    "\n",
    "        # Zip DataFrame columns of interest: pops\n",
    "        pops = zip(df_pop_ceb['Total Population'],\n",
    "                    df_pop_ceb['Urban population (% of total)'])\n",
    "\n",
    "        # Turn zip object into list: pops_list\n",
    "        pops_list = list(pops)\n",
    "\n",
    "        # Use list comprehension to create new DataFrame column 'Total Urban Population'\n",
    "        df_pop_ceb['Total Urban Population'] = [int(tup[0] * tup[1] * 0.01) for tup in pops_list]\n",
    "    \n",
    "        # Append DataFrame chunk to data: data\n",
    "        data = data.append(df_pop_ceb)\n",
    "\n",
    "    # Plot urban population data\n",
    "    data.plot(kind='scatter', x='Year', y='Total Urban Population')\n",
    "    #plt.show()\n",
    "\n",
    "# Set the filename: fn\n",
    "fn = './Data/world_dev_ind.csv'\n",
    "\n",
    "# Call plot_pop for country code 'CEB'\n",
    "plot_pop(fn, 'CEB')\n",
    "\n",
    "# Call plot_pop for country code 'ARB'\n",
    "plot_pop(fn, 'ARB')\n"
   ]
  },
  {
   "cell_type": "code",
   "execution_count": null,
   "metadata": {},
   "outputs": [],
   "source": []
  }
 ],
 "metadata": {
  "kernelspec": {
   "display_name": "Python 3",
   "language": "python",
   "name": "python3"
  },
  "language_info": {
   "codemirror_mode": {
    "name": "ipython",
    "version": 3
   },
   "file_extension": ".py",
   "mimetype": "text/x-python",
   "name": "python",
   "nbconvert_exporter": "python",
   "pygments_lexer": "ipython3",
   "version": "3.7.3"
  }
 },
 "nbformat": 4,
 "nbformat_minor": 2
}
